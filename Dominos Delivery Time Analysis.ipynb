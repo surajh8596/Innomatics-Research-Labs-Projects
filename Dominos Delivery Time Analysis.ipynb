{
 "cells": [
  {
   "cell_type": "code",
   "execution_count": 1,
   "id": "b00ccae1",
   "metadata": {},
   "outputs": [],
   "source": [
    "import pandas as pd\n",
    "import numpy as np"
   ]
  },
  {
   "cell_type": "code",
   "execution_count": 2,
   "id": "45f49d1f",
   "metadata": {},
   "outputs": [
    {
     "data": {
      "text/html": [
       "<div>\n",
       "<style scoped>\n",
       "    .dataframe tbody tr th:only-of-type {\n",
       "        vertical-align: middle;\n",
       "    }\n",
       "\n",
       "    .dataframe tbody tr th {\n",
       "        vertical-align: top;\n",
       "    }\n",
       "\n",
       "    .dataframe thead th {\n",
       "        text-align: right;\n",
       "    }\n",
       "</style>\n",
       "<table border=\"1\" class=\"dataframe\">\n",
       "  <thead>\n",
       "    <tr style=\"text-align: right;\">\n",
       "      <th></th>\n",
       "      <th>order_id</th>\n",
       "      <th>order_placed_at</th>\n",
       "      <th>order_delivered_at</th>\n",
       "    </tr>\n",
       "  </thead>\n",
       "  <tbody>\n",
       "    <tr>\n",
       "      <th>0</th>\n",
       "      <td>1523111</td>\n",
       "      <td>2023-03-01 00:00:59</td>\n",
       "      <td>2023-03-01 00:18:07.443132</td>\n",
       "    </tr>\n",
       "    <tr>\n",
       "      <th>1</th>\n",
       "      <td>1523112</td>\n",
       "      <td>2023-03-01 00:03:59</td>\n",
       "      <td>2023-03-01 00:19:34.925241</td>\n",
       "    </tr>\n",
       "    <tr>\n",
       "      <th>2</th>\n",
       "      <td>1523113</td>\n",
       "      <td>2023-03-01 00:07:22</td>\n",
       "      <td>2023-03-01 00:22:28.291385</td>\n",
       "    </tr>\n",
       "    <tr>\n",
       "      <th>3</th>\n",
       "      <td>1523114</td>\n",
       "      <td>2023-03-01 00:07:47</td>\n",
       "      <td>2023-03-01 00:46:19.019399</td>\n",
       "    </tr>\n",
       "    <tr>\n",
       "      <th>4</th>\n",
       "      <td>1523115</td>\n",
       "      <td>2023-03-01 00:09:03</td>\n",
       "      <td>2023-03-01 00:25:13.619056</td>\n",
       "    </tr>\n",
       "  </tbody>\n",
       "</table>\n",
       "</div>"
      ],
      "text/plain": [
       "   order_id      order_placed_at          order_delivered_at\n",
       "0   1523111  2023-03-01 00:00:59  2023-03-01 00:18:07.443132\n",
       "1   1523112  2023-03-01 00:03:59  2023-03-01 00:19:34.925241\n",
       "2   1523113  2023-03-01 00:07:22  2023-03-01 00:22:28.291385\n",
       "3   1523114  2023-03-01 00:07:47  2023-03-01 00:46:19.019399\n",
       "4   1523115  2023-03-01 00:09:03  2023-03-01 00:25:13.619056"
      ]
     },
     "execution_count": 2,
     "metadata": {},
     "output_type": "execute_result"
    }
   ],
   "source": [
    "df=pd.read_csv('D:\\PGP IN DATA SCIENCE with Careerera\\Data Sets\\innomatics\\dominos_data.csv')\n",
    "df.head()"
   ]
  },
  {
   "cell_type": "code",
   "execution_count": 3,
   "id": "0b25e008",
   "metadata": {},
   "outputs": [
    {
     "data": {
      "text/plain": [
       "(15000, 3)"
      ]
     },
     "execution_count": 3,
     "metadata": {},
     "output_type": "execute_result"
    }
   ],
   "source": [
    "df.shape"
   ]
  },
  {
   "cell_type": "code",
   "execution_count": 4,
   "id": "8b8ad564",
   "metadata": {},
   "outputs": [
    {
     "data": {
      "text/plain": [
       "Index(['order_id', 'order_placed_at', 'order_delivered_at'], dtype='object')"
      ]
     },
     "execution_count": 4,
     "metadata": {},
     "output_type": "execute_result"
    }
   ],
   "source": [
    "df.columns"
   ]
  },
  {
   "cell_type": "code",
   "execution_count": 5,
   "id": "b18568a2",
   "metadata": {},
   "outputs": [
    {
     "name": "stdout",
     "output_type": "stream",
     "text": [
      "<class 'pandas.core.frame.DataFrame'>\n",
      "RangeIndex: 15000 entries, 0 to 14999\n",
      "Data columns (total 3 columns):\n",
      " #   Column              Non-Null Count  Dtype \n",
      "---  ------              --------------  ----- \n",
      " 0   order_id            15000 non-null  int64 \n",
      " 1   order_placed_at     15000 non-null  object\n",
      " 2   order_delivered_at  15000 non-null  object\n",
      "dtypes: int64(1), object(2)\n",
      "memory usage: 351.7+ KB\n"
     ]
    }
   ],
   "source": [
    "df.info()"
   ]
  },
  {
   "cell_type": "markdown",
   "id": "fa97c6ca",
   "metadata": {},
   "source": [
    "#### Change the data type of order_placed_at and order-delivered_at to datetime"
   ]
  },
  {
   "cell_type": "code",
   "execution_count": 6,
   "id": "8edd38ec",
   "metadata": {},
   "outputs": [
    {
     "name": "stdout",
     "output_type": "stream",
     "text": [
      "<class 'pandas.core.frame.DataFrame'>\n",
      "RangeIndex: 15000 entries, 0 to 14999\n",
      "Data columns (total 3 columns):\n",
      " #   Column              Non-Null Count  Dtype         \n",
      "---  ------              --------------  -----         \n",
      " 0   order_id            15000 non-null  int64         \n",
      " 1   order_placed_at     15000 non-null  datetime64[ns]\n",
      " 2   order_delivered_at  15000 non-null  datetime64[ns]\n",
      "dtypes: datetime64[ns](2), int64(1)\n",
      "memory usage: 351.7 KB\n"
     ]
    }
   ],
   "source": [
    "df['order_delivered_at']=pd.to_datetime(df['order_delivered_at'])\n",
    "df['order_placed_at']=pd.to_datetime(df['order_placed_at'])\n",
    "df.info()"
   ]
  },
  {
   "cell_type": "code",
   "execution_count": 7,
   "id": "435897f5",
   "metadata": {},
   "outputs": [
    {
     "data": {
      "text/html": [
       "<div>\n",
       "<style scoped>\n",
       "    .dataframe tbody tr th:only-of-type {\n",
       "        vertical-align: middle;\n",
       "    }\n",
       "\n",
       "    .dataframe tbody tr th {\n",
       "        vertical-align: top;\n",
       "    }\n",
       "\n",
       "    .dataframe thead th {\n",
       "        text-align: right;\n",
       "    }\n",
       "</style>\n",
       "<table border=\"1\" class=\"dataframe\">\n",
       "  <thead>\n",
       "    <tr style=\"text-align: right;\">\n",
       "      <th></th>\n",
       "      <th>order_id</th>\n",
       "      <th>order_placed_at</th>\n",
       "      <th>order_delivered_at</th>\n",
       "    </tr>\n",
       "  </thead>\n",
       "  <tbody>\n",
       "    <tr>\n",
       "      <th>0</th>\n",
       "      <td>1523111</td>\n",
       "      <td>2023-03-01 00:00:59</td>\n",
       "      <td>2023-03-01 00:18:07.443132</td>\n",
       "    </tr>\n",
       "    <tr>\n",
       "      <th>1</th>\n",
       "      <td>1523112</td>\n",
       "      <td>2023-03-01 00:03:59</td>\n",
       "      <td>2023-03-01 00:19:34.925241</td>\n",
       "    </tr>\n",
       "    <tr>\n",
       "      <th>2</th>\n",
       "      <td>1523113</td>\n",
       "      <td>2023-03-01 00:07:22</td>\n",
       "      <td>2023-03-01 00:22:28.291385</td>\n",
       "    </tr>\n",
       "    <tr>\n",
       "      <th>3</th>\n",
       "      <td>1523114</td>\n",
       "      <td>2023-03-01 00:07:47</td>\n",
       "      <td>2023-03-01 00:46:19.019399</td>\n",
       "    </tr>\n",
       "    <tr>\n",
       "      <th>4</th>\n",
       "      <td>1523115</td>\n",
       "      <td>2023-03-01 00:09:03</td>\n",
       "      <td>2023-03-01 00:25:13.619056</td>\n",
       "    </tr>\n",
       "  </tbody>\n",
       "</table>\n",
       "</div>"
      ],
      "text/plain": [
       "   order_id     order_placed_at         order_delivered_at\n",
       "0   1523111 2023-03-01 00:00:59 2023-03-01 00:18:07.443132\n",
       "1   1523112 2023-03-01 00:03:59 2023-03-01 00:19:34.925241\n",
       "2   1523113 2023-03-01 00:07:22 2023-03-01 00:22:28.291385\n",
       "3   1523114 2023-03-01 00:07:47 2023-03-01 00:46:19.019399\n",
       "4   1523115 2023-03-01 00:09:03 2023-03-01 00:25:13.619056"
      ]
     },
     "execution_count": 7,
     "metadata": {},
     "output_type": "execute_result"
    }
   ],
   "source": [
    "df.head()"
   ]
  },
  {
   "cell_type": "code",
   "execution_count": 8,
   "id": "3a174f5a",
   "metadata": {},
   "outputs": [
    {
     "data": {
      "text/plain": [
       "order_id              0\n",
       "order_placed_at       0\n",
       "order_delivered_at    0\n",
       "dtype: int64"
      ]
     },
     "execution_count": 8,
     "metadata": {},
     "output_type": "execute_result"
    }
   ],
   "source": [
    "df.isna().sum()"
   ]
  },
  {
   "cell_type": "markdown",
   "id": "ef270b1a",
   "metadata": {},
   "source": [
    "#### No mising row."
   ]
  },
  {
   "cell_type": "code",
   "execution_count": null,
   "id": "a8780a1f",
   "metadata": {},
   "outputs": [],
   "source": []
  },
  {
   "cell_type": "markdown",
   "id": "8b18c617",
   "metadata": {},
   "source": [
    "## Performance Metric\n",
    "### `95th Percentile of Order Delivery time should be less than 31 mins.`"
   ]
  },
  {
   "cell_type": "markdown",
   "id": "aedc272a",
   "metadata": {},
   "source": [
    "### Create a column delivery_time"
   ]
  },
  {
   "cell_type": "code",
   "execution_count": 9,
   "id": "f1ef37a6",
   "metadata": {},
   "outputs": [
    {
     "data": {
      "text/html": [
       "<div>\n",
       "<style scoped>\n",
       "    .dataframe tbody tr th:only-of-type {\n",
       "        vertical-align: middle;\n",
       "    }\n",
       "\n",
       "    .dataframe tbody tr th {\n",
       "        vertical-align: top;\n",
       "    }\n",
       "\n",
       "    .dataframe thead th {\n",
       "        text-align: right;\n",
       "    }\n",
       "</style>\n",
       "<table border=\"1\" class=\"dataframe\">\n",
       "  <thead>\n",
       "    <tr style=\"text-align: right;\">\n",
       "      <th></th>\n",
       "      <th>order_id</th>\n",
       "      <th>order_placed_at</th>\n",
       "      <th>order_delivered_at</th>\n",
       "      <th>delivery_time</th>\n",
       "    </tr>\n",
       "  </thead>\n",
       "  <tbody>\n",
       "    <tr>\n",
       "      <th>0</th>\n",
       "      <td>1523111</td>\n",
       "      <td>2023-03-01 00:00:59</td>\n",
       "      <td>2023-03-01 00:18:07.443132</td>\n",
       "      <td>0 days 00:17:08.443132</td>\n",
       "    </tr>\n",
       "    <tr>\n",
       "      <th>1</th>\n",
       "      <td>1523112</td>\n",
       "      <td>2023-03-01 00:03:59</td>\n",
       "      <td>2023-03-01 00:19:34.925241</td>\n",
       "      <td>0 days 00:15:35.925241</td>\n",
       "    </tr>\n",
       "    <tr>\n",
       "      <th>2</th>\n",
       "      <td>1523113</td>\n",
       "      <td>2023-03-01 00:07:22</td>\n",
       "      <td>2023-03-01 00:22:28.291385</td>\n",
       "      <td>0 days 00:15:06.291385</td>\n",
       "    </tr>\n",
       "    <tr>\n",
       "      <th>3</th>\n",
       "      <td>1523114</td>\n",
       "      <td>2023-03-01 00:07:47</td>\n",
       "      <td>2023-03-01 00:46:19.019399</td>\n",
       "      <td>0 days 00:38:32.019399</td>\n",
       "    </tr>\n",
       "    <tr>\n",
       "      <th>4</th>\n",
       "      <td>1523115</td>\n",
       "      <td>2023-03-01 00:09:03</td>\n",
       "      <td>2023-03-01 00:25:13.619056</td>\n",
       "      <td>0 days 00:16:10.619056</td>\n",
       "    </tr>\n",
       "  </tbody>\n",
       "</table>\n",
       "</div>"
      ],
      "text/plain": [
       "   order_id     order_placed_at         order_delivered_at  \\\n",
       "0   1523111 2023-03-01 00:00:59 2023-03-01 00:18:07.443132   \n",
       "1   1523112 2023-03-01 00:03:59 2023-03-01 00:19:34.925241   \n",
       "2   1523113 2023-03-01 00:07:22 2023-03-01 00:22:28.291385   \n",
       "3   1523114 2023-03-01 00:07:47 2023-03-01 00:46:19.019399   \n",
       "4   1523115 2023-03-01 00:09:03 2023-03-01 00:25:13.619056   \n",
       "\n",
       "           delivery_time  \n",
       "0 0 days 00:17:08.443132  \n",
       "1 0 days 00:15:35.925241  \n",
       "2 0 days 00:15:06.291385  \n",
       "3 0 days 00:38:32.019399  \n",
       "4 0 days 00:16:10.619056  "
      ]
     },
     "execution_count": 9,
     "metadata": {},
     "output_type": "execute_result"
    }
   ],
   "source": [
    "df['delivery_time']=(df['order_delivered_at']-df['order_placed_at'])\n",
    "df.head()"
   ]
  },
  {
   "cell_type": "markdown",
   "id": "d1930de3",
   "metadata": {},
   "source": [
    "#### Make delivery time in minutes"
   ]
  },
  {
   "cell_type": "code",
   "execution_count": 10,
   "id": "d143e263",
   "metadata": {},
   "outputs": [],
   "source": [
    "import datetime as dt"
   ]
  },
  {
   "cell_type": "code",
   "execution_count": 11,
   "id": "85c9ace2",
   "metadata": {},
   "outputs": [
    {
     "data": {
      "text/html": [
       "<div>\n",
       "<style scoped>\n",
       "    .dataframe tbody tr th:only-of-type {\n",
       "        vertical-align: middle;\n",
       "    }\n",
       "\n",
       "    .dataframe tbody tr th {\n",
       "        vertical-align: top;\n",
       "    }\n",
       "\n",
       "    .dataframe thead th {\n",
       "        text-align: right;\n",
       "    }\n",
       "</style>\n",
       "<table border=\"1\" class=\"dataframe\">\n",
       "  <thead>\n",
       "    <tr style=\"text-align: right;\">\n",
       "      <th></th>\n",
       "      <th>order_id</th>\n",
       "      <th>order_placed_at</th>\n",
       "      <th>order_delivered_at</th>\n",
       "      <th>delivery_time</th>\n",
       "    </tr>\n",
       "  </thead>\n",
       "  <tbody>\n",
       "    <tr>\n",
       "      <th>0</th>\n",
       "      <td>1523111</td>\n",
       "      <td>2023-03-01 00:00:59</td>\n",
       "      <td>2023-03-01 00:18:07.443132</td>\n",
       "      <td>17</td>\n",
       "    </tr>\n",
       "    <tr>\n",
       "      <th>1</th>\n",
       "      <td>1523112</td>\n",
       "      <td>2023-03-01 00:03:59</td>\n",
       "      <td>2023-03-01 00:19:34.925241</td>\n",
       "      <td>15</td>\n",
       "    </tr>\n",
       "    <tr>\n",
       "      <th>2</th>\n",
       "      <td>1523113</td>\n",
       "      <td>2023-03-01 00:07:22</td>\n",
       "      <td>2023-03-01 00:22:28.291385</td>\n",
       "      <td>15</td>\n",
       "    </tr>\n",
       "    <tr>\n",
       "      <th>3</th>\n",
       "      <td>1523114</td>\n",
       "      <td>2023-03-01 00:07:47</td>\n",
       "      <td>2023-03-01 00:46:19.019399</td>\n",
       "      <td>38</td>\n",
       "    </tr>\n",
       "    <tr>\n",
       "      <th>4</th>\n",
       "      <td>1523115</td>\n",
       "      <td>2023-03-01 00:09:03</td>\n",
       "      <td>2023-03-01 00:25:13.619056</td>\n",
       "      <td>16</td>\n",
       "    </tr>\n",
       "  </tbody>\n",
       "</table>\n",
       "</div>"
      ],
      "text/plain": [
       "   order_id     order_placed_at         order_delivered_at  delivery_time\n",
       "0   1523111 2023-03-01 00:00:59 2023-03-01 00:18:07.443132             17\n",
       "1   1523112 2023-03-01 00:03:59 2023-03-01 00:19:34.925241             15\n",
       "2   1523113 2023-03-01 00:07:22 2023-03-01 00:22:28.291385             15\n",
       "3   1523114 2023-03-01 00:07:47 2023-03-01 00:46:19.019399             38\n",
       "4   1523115 2023-03-01 00:09:03 2023-03-01 00:25:13.619056             16"
      ]
     },
     "execution_count": 11,
     "metadata": {},
     "output_type": "execute_result"
    }
   ],
   "source": [
    "df['delivery_time']=pd.to_timedelta(df.delivery_time).dt.components.iloc[:,2]\n",
    "df.head()"
   ]
  },
  {
   "cell_type": "code",
   "execution_count": 12,
   "id": "313daffd",
   "metadata": {},
   "outputs": [
    {
     "name": "stdout",
     "output_type": "stream",
     "text": [
      "Average Delivery Time 16.980666666666668\n",
      "Median Delivery TIme 15.0\n",
      "Minimum Delivery Time 0\n",
      "Maximum Delivery Time 59\n",
      "25% of Delivery TIme 15.0\n",
      "50% of Delivery TIme 15.0\n",
      "75% of Delivery TIme 17.0\n",
      "90% of Delivery TIme 20.0\n",
      "95% of Delivery TIme 25.0\n",
      "96% of Delivery TIme 27.0\n",
      "97% of Delivery TIme 30.0\n",
      "98% of Delivery TIme 34.0\n",
      "99% of Delivery TIme 42.0\n"
     ]
    }
   ],
   "source": [
    "print(\"Average Delivery Time\", df['delivery_time'].mean())\n",
    "print(\"Median Delivery TIme\", df['delivery_time'].median())\n",
    "print(\"Minimum Delivery Time\", df['delivery_time'].min())\n",
    "print(\"Maximum Delivery Time\", df['delivery_time'].max())\n",
    "print(\"25% of Delivery TIme\", df['delivery_time'].quantile(0.25))\n",
    "print(\"50% of Delivery TIme\", df['delivery_time'].quantile(0.50))\n",
    "print(\"75% of Delivery TIme\", df['delivery_time'].quantile(0.75))\n",
    "print(\"90% of Delivery TIme\", df['delivery_time'].quantile(0.90))\n",
    "print(\"95% of Delivery TIme\", df['delivery_time'].quantile(0.95))\n",
    "print(\"96% of Delivery TIme\", df['delivery_time'].quantile(0.96))\n",
    "print(\"97% of Delivery TIme\", df['delivery_time'].quantile(0.97))\n",
    "print(\"98% of Delivery TIme\", df['delivery_time'].quantile(0.98))\n",
    "print(\"99% of Delivery TIme\", df['delivery_time'].quantile(0.99))"
   ]
  },
  {
   "cell_type": "markdown",
   "id": "8450c2ca",
   "metadata": {},
   "source": [
    "#### `97% deliveries are within 31 minutes`"
   ]
  },
  {
   "cell_type": "code",
   "execution_count": null,
   "id": "d54d3054",
   "metadata": {},
   "outputs": [],
   "source": []
  },
  {
   "cell_type": "markdown",
   "id": "a04900a0",
   "metadata": {},
   "source": [
    "### Distribution of delivery time"
   ]
  },
  {
   "cell_type": "code",
   "execution_count": 13,
   "id": "a23f7a26",
   "metadata": {},
   "outputs": [
    {
     "data": {
      "image/png": "[encoded data removed]",
      "text/plain": [
       "<Figure size 864x360 with 1 Axes>"
      ]
     },
     "metadata": {
      "needs_background": "light"
     },
     "output_type": "display_data"
    }
   ],
   "source": [
    "df['delivery_time'].plot(kind='box', figsize=(12,5), );"
   ]
  },
  {
   "cell_type": "markdown",
   "id": "9b24cad9",
   "metadata": {},
   "source": [
    "#### `Delivery time for many orders is above the 30 minutes.`"
   ]
  },
  {
   "cell_type": "code",
   "execution_count": null,
   "id": "e47cca34",
   "metadata": {},
   "outputs": [],
   "source": []
  },
  {
   "cell_type": "code",
   "execution_count": 14,
   "id": "35357b85",
   "metadata": {},
   "outputs": [
    {
     "data": {
      "text/plain": [
       "<AxesSubplot:ylabel='Frequency'>"
      ]
     },
     "execution_count": 14,
     "metadata": {},
     "output_type": "execute_result"
    },
    {
     "data": {
      "image/png": "[encoded data removed]",
      "text/plain": [
       "<Figure size 864x360 with 1 Axes>"
      ]
     },
     "metadata": {
      "needs_background": "light"
     },
     "output_type": "display_data"
    }
   ],
   "source": [
    "df['delivery_time'].plot(kind='hist', figsize=(12,5))"
   ]
  },
  {
   "cell_type": "markdown",
   "id": "96fac510",
   "metadata": {},
   "source": [
    "#### `Most of the deliveries done within 10 to 20 minutes.`"
   ]
  },
  {
   "cell_type": "code",
   "execution_count": null,
   "id": "7477a86a",
   "metadata": {},
   "outputs": [],
   "source": []
  },
  {
   "cell_type": "markdown",
   "id": "f18eed22",
   "metadata": {},
   "source": [
    "### Percentage of total deliveries done by Minutes"
   ]
  },
  {
   "cell_type": "code",
   "execution_count": 15,
   "id": "532019a5",
   "metadata": {},
   "outputs": [
    {
     "data": {
      "text/plain": [
       "60"
      ]
     },
     "execution_count": 15,
     "metadata": {},
     "output_type": "execute_result"
    }
   ],
   "source": [
    "df['delivery_time'].nunique()"
   ]
  },
  {
   "cell_type": "code",
   "execution_count": 16,
   "id": "7eae3471",
   "metadata": {},
   "outputs": [
    {
     "data": {
      "text/html": [
       "<div>\n",
       "<style scoped>\n",
       "    .dataframe tbody tr th:only-of-type {\n",
       "        vertical-align: middle;\n",
       "    }\n",
       "\n",
       "    .dataframe tbody tr th {\n",
       "        vertical-align: top;\n",
       "    }\n",
       "\n",
       "    .dataframe thead th {\n",
       "        text-align: right;\n",
       "    }\n",
       "</style>\n",
       "<table border=\"1\" class=\"dataframe\">\n",
       "  <thead>\n",
       "    <tr style=\"text-align: right;\">\n",
       "      <th></th>\n",
       "      <th>delivery_time(min)</th>\n",
       "      <th>total_deliveries</th>\n",
       "      <th>percentage_deliveries(%)</th>\n",
       "    </tr>\n",
       "  </thead>\n",
       "  <tbody>\n",
       "    <tr>\n",
       "      <th>0</th>\n",
       "      <td>15</td>\n",
       "      <td>8410</td>\n",
       "      <td>56.07</td>\n",
       "    </tr>\n",
       "    <tr>\n",
       "      <th>1</th>\n",
       "      <td>16</td>\n",
       "      <td>2471</td>\n",
       "      <td>16.47</td>\n",
       "    </tr>\n",
       "    <tr>\n",
       "      <th>2</th>\n",
       "      <td>17</td>\n",
       "      <td>1166</td>\n",
       "      <td>7.77</td>\n",
       "    </tr>\n",
       "    <tr>\n",
       "      <th>3</th>\n",
       "      <td>18</td>\n",
       "      <td>694</td>\n",
       "      <td>4.63</td>\n",
       "    </tr>\n",
       "    <tr>\n",
       "      <th>4</th>\n",
       "      <td>19</td>\n",
       "      <td>442</td>\n",
       "      <td>2.95</td>\n",
       "    </tr>\n",
       "    <tr>\n",
       "      <th>5</th>\n",
       "      <td>20</td>\n",
       "      <td>295</td>\n",
       "      <td>1.97</td>\n",
       "    </tr>\n",
       "    <tr>\n",
       "      <th>6</th>\n",
       "      <td>21</td>\n",
       "      <td>237</td>\n",
       "      <td>1.58</td>\n",
       "    </tr>\n",
       "    <tr>\n",
       "      <th>7</th>\n",
       "      <td>22</td>\n",
       "      <td>170</td>\n",
       "      <td>1.13</td>\n",
       "    </tr>\n",
       "    <tr>\n",
       "      <th>8</th>\n",
       "      <td>23</td>\n",
       "      <td>126</td>\n",
       "      <td>0.84</td>\n",
       "    </tr>\n",
       "    <tr>\n",
       "      <th>9</th>\n",
       "      <td>24</td>\n",
       "      <td>110</td>\n",
       "      <td>0.73</td>\n",
       "    </tr>\n",
       "    <tr>\n",
       "      <th>10</th>\n",
       "      <td>25</td>\n",
       "      <td>79</td>\n",
       "      <td>0.53</td>\n",
       "    </tr>\n",
       "    <tr>\n",
       "      <th>11</th>\n",
       "      <td>26</td>\n",
       "      <td>78</td>\n",
       "      <td>0.52</td>\n",
       "    </tr>\n",
       "    <tr>\n",
       "      <th>12</th>\n",
       "      <td>28</td>\n",
       "      <td>60</td>\n",
       "      <td>0.40</td>\n",
       "    </tr>\n",
       "    <tr>\n",
       "      <th>13</th>\n",
       "      <td>27</td>\n",
       "      <td>59</td>\n",
       "      <td>0.39</td>\n",
       "    </tr>\n",
       "    <tr>\n",
       "      <th>14</th>\n",
       "      <td>30</td>\n",
       "      <td>52</td>\n",
       "      <td>0.35</td>\n",
       "    </tr>\n",
       "    <tr>\n",
       "      <th>15</th>\n",
       "      <td>29</td>\n",
       "      <td>44</td>\n",
       "      <td>0.29</td>\n",
       "    </tr>\n",
       "    <tr>\n",
       "      <th>16</th>\n",
       "      <td>31</td>\n",
       "      <td>41</td>\n",
       "      <td>0.27</td>\n",
       "    </tr>\n",
       "    <tr>\n",
       "      <th>17</th>\n",
       "      <td>32</td>\n",
       "      <td>37</td>\n",
       "      <td>0.25</td>\n",
       "    </tr>\n",
       "    <tr>\n",
       "      <th>18</th>\n",
       "      <td>33</td>\n",
       "      <td>37</td>\n",
       "      <td>0.25</td>\n",
       "    </tr>\n",
       "    <tr>\n",
       "      <th>19</th>\n",
       "      <td>34</td>\n",
       "      <td>28</td>\n",
       "      <td>0.19</td>\n",
       "    </tr>\n",
       "    <tr>\n",
       "      <th>20</th>\n",
       "      <td>35</td>\n",
       "      <td>25</td>\n",
       "      <td>0.17</td>\n",
       "    </tr>\n",
       "    <tr>\n",
       "      <th>21</th>\n",
       "      <td>41</td>\n",
       "      <td>23</td>\n",
       "      <td>0.15</td>\n",
       "    </tr>\n",
       "    <tr>\n",
       "      <th>22</th>\n",
       "      <td>38</td>\n",
       "      <td>21</td>\n",
       "      <td>0.14</td>\n",
       "    </tr>\n",
       "    <tr>\n",
       "      <th>23</th>\n",
       "      <td>39</td>\n",
       "      <td>21</td>\n",
       "      <td>0.14</td>\n",
       "    </tr>\n",
       "    <tr>\n",
       "      <th>24</th>\n",
       "      <td>40</td>\n",
       "      <td>19</td>\n",
       "      <td>0.13</td>\n",
       "    </tr>\n",
       "    <tr>\n",
       "      <th>25</th>\n",
       "      <td>42</td>\n",
       "      <td>18</td>\n",
       "      <td>0.12</td>\n",
       "    </tr>\n",
       "    <tr>\n",
       "      <th>26</th>\n",
       "      <td>37</td>\n",
       "      <td>17</td>\n",
       "      <td>0.11</td>\n",
       "    </tr>\n",
       "    <tr>\n",
       "      <th>27</th>\n",
       "      <td>36</td>\n",
       "      <td>12</td>\n",
       "      <td>0.08</td>\n",
       "    </tr>\n",
       "    <tr>\n",
       "      <th>28</th>\n",
       "      <td>48</td>\n",
       "      <td>11</td>\n",
       "      <td>0.07</td>\n",
       "    </tr>\n",
       "    <tr>\n",
       "      <th>29</th>\n",
       "      <td>47</td>\n",
       "      <td>11</td>\n",
       "      <td>0.07</td>\n",
       "    </tr>\n",
       "    <tr>\n",
       "      <th>30</th>\n",
       "      <td>56</td>\n",
       "      <td>11</td>\n",
       "      <td>0.07</td>\n",
       "    </tr>\n",
       "    <tr>\n",
       "      <th>31</th>\n",
       "      <td>44</td>\n",
       "      <td>11</td>\n",
       "      <td>0.07</td>\n",
       "    </tr>\n",
       "    <tr>\n",
       "      <th>32</th>\n",
       "      <td>3</td>\n",
       "      <td>10</td>\n",
       "      <td>0.07</td>\n",
       "    </tr>\n",
       "    <tr>\n",
       "      <th>33</th>\n",
       "      <td>45</td>\n",
       "      <td>10</td>\n",
       "      <td>0.07</td>\n",
       "    </tr>\n",
       "    <tr>\n",
       "      <th>34</th>\n",
       "      <td>50</td>\n",
       "      <td>10</td>\n",
       "      <td>0.07</td>\n",
       "    </tr>\n",
       "    <tr>\n",
       "      <th>35</th>\n",
       "      <td>46</td>\n",
       "      <td>10</td>\n",
       "      <td>0.07</td>\n",
       "    </tr>\n",
       "    <tr>\n",
       "      <th>36</th>\n",
       "      <td>57</td>\n",
       "      <td>10</td>\n",
       "      <td>0.07</td>\n",
       "    </tr>\n",
       "    <tr>\n",
       "      <th>37</th>\n",
       "      <td>9</td>\n",
       "      <td>8</td>\n",
       "      <td>0.05</td>\n",
       "    </tr>\n",
       "    <tr>\n",
       "      <th>38</th>\n",
       "      <td>55</td>\n",
       "      <td>8</td>\n",
       "      <td>0.05</td>\n",
       "    </tr>\n",
       "    <tr>\n",
       "      <th>39</th>\n",
       "      <td>54</td>\n",
       "      <td>7</td>\n",
       "      <td>0.05</td>\n",
       "    </tr>\n",
       "    <tr>\n",
       "      <th>40</th>\n",
       "      <td>5</td>\n",
       "      <td>7</td>\n",
       "      <td>0.05</td>\n",
       "    </tr>\n",
       "    <tr>\n",
       "      <th>41</th>\n",
       "      <td>43</td>\n",
       "      <td>7</td>\n",
       "      <td>0.05</td>\n",
       "    </tr>\n",
       "    <tr>\n",
       "      <th>42</th>\n",
       "      <td>59</td>\n",
       "      <td>6</td>\n",
       "      <td>0.04</td>\n",
       "    </tr>\n",
       "    <tr>\n",
       "      <th>43</th>\n",
       "      <td>51</td>\n",
       "      <td>6</td>\n",
       "      <td>0.04</td>\n",
       "    </tr>\n",
       "    <tr>\n",
       "      <th>44</th>\n",
       "      <td>6</td>\n",
       "      <td>6</td>\n",
       "      <td>0.04</td>\n",
       "    </tr>\n",
       "    <tr>\n",
       "      <th>45</th>\n",
       "      <td>1</td>\n",
       "      <td>6</td>\n",
       "      <td>0.04</td>\n",
       "    </tr>\n",
       "    <tr>\n",
       "      <th>46</th>\n",
       "      <td>0</td>\n",
       "      <td>6</td>\n",
       "      <td>0.04</td>\n",
       "    </tr>\n",
       "    <tr>\n",
       "      <th>47</th>\n",
       "      <td>53</td>\n",
       "      <td>6</td>\n",
       "      <td>0.04</td>\n",
       "    </tr>\n",
       "    <tr>\n",
       "      <th>48</th>\n",
       "      <td>8</td>\n",
       "      <td>6</td>\n",
       "      <td>0.04</td>\n",
       "    </tr>\n",
       "    <tr>\n",
       "      <th>49</th>\n",
       "      <td>58</td>\n",
       "      <td>5</td>\n",
       "      <td>0.03</td>\n",
       "    </tr>\n",
       "    <tr>\n",
       "      <th>50</th>\n",
       "      <td>7</td>\n",
       "      <td>5</td>\n",
       "      <td>0.03</td>\n",
       "    </tr>\n",
       "    <tr>\n",
       "      <th>51</th>\n",
       "      <td>49</td>\n",
       "      <td>5</td>\n",
       "      <td>0.03</td>\n",
       "    </tr>\n",
       "    <tr>\n",
       "      <th>52</th>\n",
       "      <td>52</td>\n",
       "      <td>5</td>\n",
       "      <td>0.03</td>\n",
       "    </tr>\n",
       "    <tr>\n",
       "      <th>53</th>\n",
       "      <td>4</td>\n",
       "      <td>3</td>\n",
       "      <td>0.02</td>\n",
       "    </tr>\n",
       "    <tr>\n",
       "      <th>54</th>\n",
       "      <td>12</td>\n",
       "      <td>3</td>\n",
       "      <td>0.02</td>\n",
       "    </tr>\n",
       "    <tr>\n",
       "      <th>55</th>\n",
       "      <td>2</td>\n",
       "      <td>3</td>\n",
       "      <td>0.02</td>\n",
       "    </tr>\n",
       "    <tr>\n",
       "      <th>56</th>\n",
       "      <td>13</td>\n",
       "      <td>2</td>\n",
       "      <td>0.01</td>\n",
       "    </tr>\n",
       "    <tr>\n",
       "      <th>57</th>\n",
       "      <td>11</td>\n",
       "      <td>2</td>\n",
       "      <td>0.01</td>\n",
       "    </tr>\n",
       "    <tr>\n",
       "      <th>58</th>\n",
       "      <td>10</td>\n",
       "      <td>1</td>\n",
       "      <td>0.01</td>\n",
       "    </tr>\n",
       "    <tr>\n",
       "      <th>59</th>\n",
       "      <td>14</td>\n",
       "      <td>1</td>\n",
       "      <td>0.01</td>\n",
       "    </tr>\n",
       "  </tbody>\n",
       "</table>\n",
       "</div>"
      ],
      "text/plain": [
       "    delivery_time(min)  total_deliveries  percentage_deliveries(%)\n",
       "0                   15              8410                     56.07\n",
       "1                   16              2471                     16.47\n",
       "2                   17              1166                      7.77\n",
       "3                   18               694                      4.63\n",
       "4                   19               442                      2.95\n",
       "5                   20               295                      1.97\n",
       "6                   21               237                      1.58\n",
       "7                   22               170                      1.13\n",
       "8                   23               126                      0.84\n",
       "9                   24               110                      0.73\n",
       "10                  25                79                      0.53\n",
       "11                  26                78                      0.52\n",
       "12                  28                60                      0.40\n",
       "13                  27                59                      0.39\n",
       "14                  30                52                      0.35\n",
       "15                  29                44                      0.29\n",
       "16                  31                41                      0.27\n",
       "17                  32                37                      0.25\n",
       "18                  33                37                      0.25\n",
       "19                  34                28                      0.19\n",
       "20                  35                25                      0.17\n",
       "21                  41                23                      0.15\n",
       "22                  38                21                      0.14\n",
       "23                  39                21                      0.14\n",
       "24                  40                19                      0.13\n",
       "25                  42                18                      0.12\n",
       "26                  37                17                      0.11\n",
       "27                  36                12                      0.08\n",
       "28                  48                11                      0.07\n",
       "29                  47                11                      0.07\n",
       "30                  56                11                      0.07\n",
       "31                  44                11                      0.07\n",
       "32                   3                10                      0.07\n",
       "33                  45                10                      0.07\n",
       "34                  50                10                      0.07\n",
       "35                  46                10                      0.07\n",
       "36                  57                10                      0.07\n",
       "37                   9                 8                      0.05\n",
       "38                  55                 8                      0.05\n",
       "39                  54                 7                      0.05\n",
       "40                   5                 7                      0.05\n",
       "41                  43                 7                      0.05\n",
       "42                  59                 6                      0.04\n",
       "43                  51                 6                      0.04\n",
       "44                   6                 6                      0.04\n",
       "45                   1                 6                      0.04\n",
       "46                   0                 6                      0.04\n",
       "47                  53                 6                      0.04\n",
       "48                   8                 6                      0.04\n",
       "49                  58                 5                      0.03\n",
       "50                   7                 5                      0.03\n",
       "51                  49                 5                      0.03\n",
       "52                  52                 5                      0.03\n",
       "53                   4                 3                      0.02\n",
       "54                  12                 3                      0.02\n",
       "55                   2                 3                      0.02\n",
       "56                  13                 2                      0.01\n",
       "57                  11                 2                      0.01\n",
       "58                  10                 1                      0.01\n",
       "59                  14                 1                      0.01"
      ]
     },
     "execution_count": 16,
     "metadata": {},
     "output_type": "execute_result"
    }
   ],
   "source": [
    "delivery_stats=pd.DataFrame(df['delivery_time'].value_counts().values, index=df['delivery_time'].value_counts().index)\n",
    "delivery_stats.reset_index(inplace=True)\n",
    "delivery_stats.columns=['delivery_time(min)','total_deliveries']\n",
    "delivery_stats['percentage_deliveries(%)']=(delivery_stats['total_deliveries']/15000*100).round(2)\n",
    "delivery_stats"
   ]
  },
  {
   "cell_type": "markdown",
   "id": "94062afb",
   "metadata": {},
   "source": [
    "#### `Out of total deliveries, 88% deliveries done in range of 15 to 20 minutes.`"
   ]
  },
  {
   "cell_type": "code",
   "execution_count": null,
   "id": "0b33ffb5",
   "metadata": {},
   "outputs": [],
   "source": []
  },
  {
   "cell_type": "markdown",
   "id": "68ac3977",
   "metadata": {},
   "source": [
    "### Total orders by day"
   ]
  },
  {
   "cell_type": "code",
   "execution_count": 17,
   "id": "ee5b4219",
   "metadata": {},
   "outputs": [
    {
     "data": {
      "text/plain": [
       "2023-03-20    597\n",
       "2023-03-22    591\n",
       "2023-03-02    588\n",
       "2023-03-10    587\n",
       "2023-03-23    583\n",
       "2023-03-06    582\n",
       "2023-03-12    582\n",
       "2023-03-08    578\n",
       "2023-03-07    570\n",
       "2023-03-04    567\n",
       "2023-03-24    565\n",
       "2023-03-09    564\n",
       "2023-03-18    559\n",
       "2023-03-27    551\n",
       "2023-03-05    551\n",
       "2023-03-01    550\n",
       "2023-03-25    547\n",
       "2023-03-16    545\n",
       "2023-03-15    540\n",
       "2023-03-17    537\n",
       "2023-03-11    536\n",
       "2023-03-03    534\n",
       "2023-03-26    532\n",
       "2023-03-19    526\n",
       "2023-03-13    526\n",
       "2023-03-21    520\n",
       "2023-03-14    492\n",
       "Name: order_placed_at, dtype: int64"
      ]
     },
     "execution_count": 17,
     "metadata": {},
     "output_type": "execute_result"
    }
   ],
   "source": [
    "(df['order_placed_at'].dt.date).value_counts()"
   ]
  },
  {
   "cell_type": "code",
   "execution_count": 52,
   "id": "91b2135e",
   "metadata": {},
   "outputs": [
    {
     "data": {
      "text/plain": [
       "<AxesSubplot:>"
      ]
     },
     "execution_count": 52,
     "metadata": {},
     "output_type": "execute_result"
    },
    {
     "data": {
      "image/png": "[encoded data removed]",
      "text/plain": [
       "<Figure size 1440x360 with 1 Axes>"
      ]
     },
     "metadata": {
      "needs_background": "light"
     },
     "output_type": "display_data"
    }
   ],
   "source": [
    "(df['order_placed_at'].dt.date).value_counts().plot(kind='line', figsize=(20,5))"
   ]
  },
  {
   "cell_type": "markdown",
   "id": "b7b2263a",
   "metadata": {},
   "source": [
    "#### `Every day from 1st March 2023 to 27th March 2023, between 500 to 600 orders has been placed., Maximum orders placed on 20th March and minimum order on 14th March.`"
   ]
  },
  {
   "cell_type": "code",
   "execution_count": null,
   "id": "4e1951f4",
   "metadata": {},
   "outputs": [],
   "source": []
  },
  {
   "cell_type": "markdown",
   "id": "6a48adf2",
   "metadata": {},
   "source": [
    "### Total orders by Weekday"
   ]
  },
  {
   "cell_type": "code",
   "execution_count": 18,
   "id": "f481aeac",
   "metadata": {},
   "outputs": [
    {
     "data": {
      "text/html": [
       "<div>\n",
       "<style scoped>\n",
       "    .dataframe tbody tr th:only-of-type {\n",
       "        vertical-align: middle;\n",
       "    }\n",
       "\n",
       "    .dataframe tbody tr th {\n",
       "        vertical-align: top;\n",
       "    }\n",
       "\n",
       "    .dataframe thead th {\n",
       "        text-align: right;\n",
       "    }\n",
       "</style>\n",
       "<table border=\"1\" class=\"dataframe\">\n",
       "  <thead>\n",
       "    <tr style=\"text-align: right;\">\n",
       "      <th></th>\n",
       "      <th>weekday</th>\n",
       "      <th>toral_orders</th>\n",
       "      <th>perc_order</th>\n",
       "    </tr>\n",
       "  </thead>\n",
       "  <tbody>\n",
       "    <tr>\n",
       "      <th>0</th>\n",
       "      <td>3</td>\n",
       "      <td>2280</td>\n",
       "      <td>15.20</td>\n",
       "    </tr>\n",
       "    <tr>\n",
       "      <th>1</th>\n",
       "      <td>2</td>\n",
       "      <td>2259</td>\n",
       "      <td>15.06</td>\n",
       "    </tr>\n",
       "    <tr>\n",
       "      <th>2</th>\n",
       "      <td>0</td>\n",
       "      <td>2256</td>\n",
       "      <td>15.04</td>\n",
       "    </tr>\n",
       "    <tr>\n",
       "      <th>3</th>\n",
       "      <td>4</td>\n",
       "      <td>2223</td>\n",
       "      <td>14.82</td>\n",
       "    </tr>\n",
       "    <tr>\n",
       "      <th>4</th>\n",
       "      <td>5</td>\n",
       "      <td>2209</td>\n",
       "      <td>14.73</td>\n",
       "    </tr>\n",
       "    <tr>\n",
       "      <th>5</th>\n",
       "      <td>6</td>\n",
       "      <td>2191</td>\n",
       "      <td>14.61</td>\n",
       "    </tr>\n",
       "    <tr>\n",
       "      <th>6</th>\n",
       "      <td>1</td>\n",
       "      <td>1582</td>\n",
       "      <td>10.55</td>\n",
       "    </tr>\n",
       "  </tbody>\n",
       "</table>\n",
       "</div>"
      ],
      "text/plain": [
       "   weekday  toral_orders  perc_order\n",
       "0        3          2280       15.20\n",
       "1        2          2259       15.06\n",
       "2        0          2256       15.04\n",
       "3        4          2223       14.82\n",
       "4        5          2209       14.73\n",
       "5        6          2191       14.61\n",
       "6        1          1582       10.55"
      ]
     },
     "execution_count": 18,
     "metadata": {},
     "output_type": "execute_result"
    }
   ],
   "source": [
    "order_by_weekday=pd.DataFrame((df['order_placed_at'].dt.weekday).value_counts())\n",
    "order_by_weekday.reset_index(inplace=True)\n",
    "order_by_weekday.columns=['weekday','toral_orders']\n",
    "order_by_weekday['perc_order']=(order_by_weekday['toral_orders']/15000*100).round(2)\n",
    "order_by_weekday"
   ]
  },
  {
   "cell_type": "markdown",
   "id": "01226249",
   "metadata": {},
   "source": [
    "#### `On Thursday Most orders about 15.20% of total orders has been placed, and on Tuesday least orders ie only 10% of total orders has placed.`\n",
    "#### `Every week day almost 2200 orders  i.e about 15% of total orders has been placed, but on Tuesday only 1582 orders i.e 10% of total orders has placed.`"
   ]
  },
  {
   "cell_type": "code",
   "execution_count": null,
   "id": "24a401b0",
   "metadata": {},
   "outputs": [],
   "source": []
  },
  {
   "cell_type": "markdown",
   "id": "75a5cf88",
   "metadata": {},
   "source": [
    "### Total order by week"
   ]
  },
  {
   "cell_type": "code",
   "execution_count": 19,
   "id": "2cf5eb83",
   "metadata": {},
   "outputs": [],
   "source": [
    "import warnings\n",
    "warnings.filterwarnings('ignore')"
   ]
  },
  {
   "cell_type": "code",
   "execution_count": 20,
   "id": "1fdf5fd3",
   "metadata": {},
   "outputs": [
    {
     "data": {
      "text/html": [
       "<div>\n",
       "<style scoped>\n",
       "    .dataframe tbody tr th:only-of-type {\n",
       "        vertical-align: middle;\n",
       "    }\n",
       "\n",
       "    .dataframe tbody tr th {\n",
       "        vertical-align: top;\n",
       "    }\n",
       "\n",
       "    .dataframe thead th {\n",
       "        text-align: right;\n",
       "    }\n",
       "</style>\n",
       "<table border=\"1\" class=\"dataframe\">\n",
       "  <thead>\n",
       "    <tr style=\"text-align: right;\">\n",
       "      <th></th>\n",
       "      <th>week</th>\n",
       "      <th>toral_orders</th>\n",
       "      <th>perc_order</th>\n",
       "    </tr>\n",
       "  </thead>\n",
       "  <tbody>\n",
       "    <tr>\n",
       "      <th>0</th>\n",
       "      <td>10</td>\n",
       "      <td>3999</td>\n",
       "      <td>26.66</td>\n",
       "    </tr>\n",
       "    <tr>\n",
       "      <th>1</th>\n",
       "      <td>12</td>\n",
       "      <td>3935</td>\n",
       "      <td>26.23</td>\n",
       "    </tr>\n",
       "    <tr>\n",
       "      <th>2</th>\n",
       "      <td>11</td>\n",
       "      <td>3725</td>\n",
       "      <td>24.83</td>\n",
       "    </tr>\n",
       "    <tr>\n",
       "      <th>3</th>\n",
       "      <td>9</td>\n",
       "      <td>2790</td>\n",
       "      <td>18.60</td>\n",
       "    </tr>\n",
       "    <tr>\n",
       "      <th>4</th>\n",
       "      <td>13</td>\n",
       "      <td>551</td>\n",
       "      <td>3.67</td>\n",
       "    </tr>\n",
       "  </tbody>\n",
       "</table>\n",
       "</div>"
      ],
      "text/plain": [
       "   week  toral_orders  perc_order\n",
       "0    10          3999       26.66\n",
       "1    12          3935       26.23\n",
       "2    11          3725       24.83\n",
       "3     9          2790       18.60\n",
       "4    13           551        3.67"
      ]
     },
     "execution_count": 20,
     "metadata": {},
     "output_type": "execute_result"
    }
   ],
   "source": [
    "order_by_week=pd.DataFrame((df['order_placed_at'].dt.week).value_counts())\n",
    "order_by_week.reset_index(inplace=True)\n",
    "order_by_week.columns=['week','toral_orders']\n",
    "order_by_week['perc_order']=(order_by_week['toral_orders']/15000*100).round(2)\n",
    "order_by_week"
   ]
  },
  {
   "cell_type": "markdown",
   "id": "8216b027",
   "metadata": {},
   "source": [
    "#### `In first week of March 2790(18.60%) orders has been placed, 3999(26.66%) orders in second week, 3725(24.83%) orders in third week, 3935(26.23%) orders in forth week, and 551(3.67%) orders in last week of march, this is obvious because we have data till 27th March.`"
   ]
  },
  {
   "cell_type": "code",
   "execution_count": null,
   "id": "11be003f",
   "metadata": {},
   "outputs": [],
   "source": []
  },
  {
   "cell_type": "markdown",
   "id": "99cd2e74",
   "metadata": {},
   "source": [
    "### Total order by time of a day"
   ]
  },
  {
   "cell_type": "code",
   "execution_count": 40,
   "id": "b5f5e84d",
   "metadata": {},
   "outputs": [
    {
     "data": {
      "text/html": [
       "<div>\n",
       "<style scoped>\n",
       "    .dataframe tbody tr th:only-of-type {\n",
       "        vertical-align: middle;\n",
       "    }\n",
       "\n",
       "    .dataframe tbody tr th {\n",
       "        vertical-align: top;\n",
       "    }\n",
       "\n",
       "    .dataframe thead th {\n",
       "        text-align: right;\n",
       "    }\n",
       "</style>\n",
       "<table border=\"1\" class=\"dataframe\">\n",
       "  <thead>\n",
       "    <tr style=\"text-align: right;\">\n",
       "      <th></th>\n",
       "      <th>hour</th>\n",
       "    </tr>\n",
       "  </thead>\n",
       "  <tbody>\n",
       "    <tr>\n",
       "      <th>0</th>\n",
       "      <td>0</td>\n",
       "    </tr>\n",
       "    <tr>\n",
       "      <th>1</th>\n",
       "      <td>0</td>\n",
       "    </tr>\n",
       "    <tr>\n",
       "      <th>2</th>\n",
       "      <td>0</td>\n",
       "    </tr>\n",
       "    <tr>\n",
       "      <th>3</th>\n",
       "      <td>0</td>\n",
       "    </tr>\n",
       "    <tr>\n",
       "      <th>4</th>\n",
       "      <td>0</td>\n",
       "    </tr>\n",
       "    <tr>\n",
       "      <th>...</th>\n",
       "      <td>...</td>\n",
       "    </tr>\n",
       "    <tr>\n",
       "      <th>14995</th>\n",
       "      <td>23</td>\n",
       "    </tr>\n",
       "    <tr>\n",
       "      <th>14996</th>\n",
       "      <td>23</td>\n",
       "    </tr>\n",
       "    <tr>\n",
       "      <th>14997</th>\n",
       "      <td>23</td>\n",
       "    </tr>\n",
       "    <tr>\n",
       "      <th>14998</th>\n",
       "      <td>23</td>\n",
       "    </tr>\n",
       "    <tr>\n",
       "      <th>14999</th>\n",
       "      <td>23</td>\n",
       "    </tr>\n",
       "  </tbody>\n",
       "</table>\n",
       "<p>15000 rows × 1 columns</p>\n",
       "</div>"
      ],
      "text/plain": [
       "       hour\n",
       "0         0\n",
       "1         0\n",
       "2         0\n",
       "3         0\n",
       "4         0\n",
       "...     ...\n",
       "14995    23\n",
       "14996    23\n",
       "14997    23\n",
       "14998    23\n",
       "14999    23\n",
       "\n",
       "[15000 rows x 1 columns]"
      ]
     },
     "execution_count": 40,
     "metadata": {},
     "output_type": "execute_result"
    }
   ],
   "source": [
    "time=pd.DataFrame(df['order_placed_at'].dt.hour)\n",
    "time.columns=['hour']\n",
    "time"
   ]
  },
  {
   "cell_type": "code",
   "execution_count": 49,
   "id": "7ac01c3c",
   "metadata": {},
   "outputs": [
    {
     "data": {
      "text/plain": [
       "array([ 0,  1,  2,  3,  4,  5,  6,  7,  8,  9, 10, 11, 12, 13, 14, 15, 16,\n",
       "       17, 18, 19, 20, 21, 22, 23], dtype=int64)"
      ]
     },
     "execution_count": 49,
     "metadata": {},
     "output_type": "execute_result"
    }
   ],
   "source": [
    "time['hour'].unique()"
   ]
  },
  {
   "cell_type": "code",
   "execution_count": 44,
   "id": "4d202042",
   "metadata": {},
   "outputs": [
    {
     "data": {
      "text/html": [
       "<div>\n",
       "<style scoped>\n",
       "    .dataframe tbody tr th:only-of-type {\n",
       "        vertical-align: middle;\n",
       "    }\n",
       "\n",
       "    .dataframe tbody tr th {\n",
       "        vertical-align: top;\n",
       "    }\n",
       "\n",
       "    .dataframe thead th {\n",
       "        text-align: right;\n",
       "    }\n",
       "</style>\n",
       "<table border=\"1\" class=\"dataframe\">\n",
       "  <thead>\n",
       "    <tr style=\"text-align: right;\">\n",
       "      <th></th>\n",
       "      <th>hour</th>\n",
       "      <th>time_period</th>\n",
       "    </tr>\n",
       "  </thead>\n",
       "  <tbody>\n",
       "    <tr>\n",
       "      <th>0</th>\n",
       "      <td>0</td>\n",
       "      <td>12AM-6AM</td>\n",
       "    </tr>\n",
       "    <tr>\n",
       "      <th>1</th>\n",
       "      <td>0</td>\n",
       "      <td>12AM-6AM</td>\n",
       "    </tr>\n",
       "    <tr>\n",
       "      <th>2</th>\n",
       "      <td>0</td>\n",
       "      <td>12AM-6AM</td>\n",
       "    </tr>\n",
       "    <tr>\n",
       "      <th>3</th>\n",
       "      <td>0</td>\n",
       "      <td>12AM-6AM</td>\n",
       "    </tr>\n",
       "    <tr>\n",
       "      <th>4</th>\n",
       "      <td>0</td>\n",
       "      <td>12AM-6AM</td>\n",
       "    </tr>\n",
       "  </tbody>\n",
       "</table>\n",
       "</div>"
      ],
      "text/plain": [
       "   hour time_period\n",
       "0     0    12AM-6AM\n",
       "1     0    12AM-6AM\n",
       "2     0    12AM-6AM\n",
       "3     0    12AM-6AM\n",
       "4     0    12AM-6AM"
      ]
     },
     "execution_count": 44,
     "metadata": {},
     "output_type": "execute_result"
    }
   ],
   "source": [
    "def time_period(hour):\n",
    "    if (hour>=0 and hour<=6):\n",
    "        return '12AM-6AM'\n",
    "    elif (hour>6 and hour<12):\n",
    "        return '6AM-12PM'\n",
    "    elif (hour>=12 and hour<=18):\n",
    "        return '12PM-6PM'\n",
    "    else:\n",
    "        return '6PM-12AM'\n",
    "    \n",
    "time['time_period']=time['hour'].apply(time_period)\n",
    "time.head()"
   ]
  },
  {
   "cell_type": "code",
   "execution_count": 46,
   "id": "66fc3a35",
   "metadata": {},
   "outputs": [
    {
     "data": {
      "text/html": [
       "<div>\n",
       "<style scoped>\n",
       "    .dataframe tbody tr th:only-of-type {\n",
       "        vertical-align: middle;\n",
       "    }\n",
       "\n",
       "    .dataframe tbody tr th {\n",
       "        vertical-align: top;\n",
       "    }\n",
       "\n",
       "    .dataframe thead th {\n",
       "        text-align: right;\n",
       "    }\n",
       "</style>\n",
       "<table border=\"1\" class=\"dataframe\">\n",
       "  <thead>\n",
       "    <tr style=\"text-align: right;\">\n",
       "      <th></th>\n",
       "      <th>time_period</th>\n",
       "      <th>total_orders</th>\n",
       "      <th>perc_order</th>\n",
       "    </tr>\n",
       "  </thead>\n",
       "  <tbody>\n",
       "    <tr>\n",
       "      <th>0</th>\n",
       "      <td>12AM-6AM</td>\n",
       "      <td>4402</td>\n",
       "      <td>29.35</td>\n",
       "    </tr>\n",
       "    <tr>\n",
       "      <th>1</th>\n",
       "      <td>12PM-6PM</td>\n",
       "      <td>4330</td>\n",
       "      <td>28.87</td>\n",
       "    </tr>\n",
       "    <tr>\n",
       "      <th>2</th>\n",
       "      <td>6PM-12AM</td>\n",
       "      <td>3190</td>\n",
       "      <td>21.27</td>\n",
       "    </tr>\n",
       "    <tr>\n",
       "      <th>3</th>\n",
       "      <td>6AM-12PM</td>\n",
       "      <td>3078</td>\n",
       "      <td>20.52</td>\n",
       "    </tr>\n",
       "  </tbody>\n",
       "</table>\n",
       "</div>"
      ],
      "text/plain": [
       "  time_period  total_orders  perc_order\n",
       "0    12AM-6AM          4402       29.35\n",
       "1    12PM-6PM          4330       28.87\n",
       "2    6PM-12AM          3190       21.27\n",
       "3    6AM-12PM          3078       20.52"
      ]
     },
     "execution_count": 46,
     "metadata": {},
     "output_type": "execute_result"
    }
   ],
   "source": [
    "order_by_time=pd.DataFrame(time['time_period'].value_counts())\n",
    "order_by_time.reset_index(inplace=True)\n",
    "order_by_time.columns=['time_period', 'total_orders']\n",
    "order_by_time['perc_order']=(order_by_time['total_orders']/15000*100).round(2)\n",
    "order_by_time"
   ]
  },
  {
   "cell_type": "markdown",
   "id": "de959142",
   "metadata": {},
   "source": [
    "#### `Maximum orders are between 12AM to 6AM, about 30%(4402). 29% orders are between 12PM to 6PM, 21% orders are between 6PM to 12AM and 20% orders between 6AM to 12PM.`"
   ]
  },
  {
   "cell_type": "code",
   "execution_count": null,
   "id": "192cd228",
   "metadata": {},
   "outputs": [],
   "source": []
  },
  {
   "cell_type": "markdown",
   "id": "8d95a1a2",
   "metadata": {},
   "source": [
    "## Inference:\n",
    "#### 1.  97% deliveries are within 31 minutes.\n",
    "#### 2.  Average Delivery Time is 17 minutes, Maximum and minimum deliver time is 59 and 0 minutes respectively.\n",
    "#### 3.  Out of total deliveries, 88% deliveries done in time range of 15 to 20 minutes.\n",
    "#### 4.  Every day from 1st March 2023 to 27th March 2023, 500 to 600 orders has been placed.\n",
    "#### 5.  Maximum orders placed on 20th March and minimum order on 14th March.\n",
    "#### 6.  On Thursday Most orders about 15.20% of total orders has been placed, and on Tuesday least orders ie only 10% of total orders has placed.\n",
    "#### 7.  Every week day almost 2200 orders  i.e about 15% of total orders has been placed, but on Tuesday only 1582 orders i.e 10% of total orders has placed. \n",
    "#### 8.  In first week of March 2790(18.60%) orders has been placed, 3999(26.66%) orders in second week, 3725(24.83%) orders in third week, 3935(26.23%) orders in forth week, and 551(3.67%) orders in last week of march, this is obvious because we have data till 27th March.\n",
    "#### 9.  Maximum orders are between 12AM to 6AM i.e about 30%(4402). 29% orders are between 12PM to 6PM, 21% orders are between 6PM to 12AM and 20% orders between 6AM to 12PM.\n",
    "#### 10. There are 6 orders which are delivered in zero minutes, might be these odered are done from the dominos store."
   ]
  },
  {
   "cell_type": "code",
   "execution_count": null,
   "id": "e212fc38",
   "metadata": {},
   "outputs": [],
   "source": []
  }
 ],
 "metadata": {
  "kernelspec": {
   "display_name": "Python 3 (ipykernel)",
   "language": "python",
   "name": "python3"
  },
  "language_info": {
   "codemirror_mode": {
    "name": "ipython",
    "version": 3
   },
   "file_extension": ".py",
   "mimetype": "text/x-python",
   "name": "python",
   "nbconvert_exporter": "python",
   "pygments_lexer": "ipython3",
   "version": "3.9.7"
  }
 },
 "nbformat": 4,
 "nbformat_minor": 5
}
