{
 "cells": [
  {
   "cell_type": "markdown",
   "id": "541f6279",
   "metadata": {},
   "source": [
    "### 1. Ms. Gabriel Williams is a botany professor at District College. One day, she asked her student Mickey to compute the average of all the plants with distinct heights in her greenhouse.\n",
    "- Formula used: **average=(Sum of distict height)/(count of distict height)**"
   ]
  },
  {
   "cell_type": "code",
   "execution_count": 14,
   "id": "bfc5a571",
   "metadata": {},
   "outputs": [
    {
     "name": "stdout",
     "output_type": "stream",
     "text": [
      "5\n",
      "43 65 73 46 82\n",
      "61.8\n"
     ]
    }
   ],
   "source": [
    "def average(array):\n",
    "    set_array=set(array)\n",
    "    lst_array=list(set_array)\n",
    "    count=len(lst_array)\n",
    "    sum=0\n",
    "    for i in lst_array:\n",
    "        sum=sum+i\n",
    "    \n",
    "    avr=sum/count\n",
    "    return avr\n",
    "\n",
    "n = int(input())\n",
    "arr = list(map(int, input().split()))\n",
    "result = average(arr)\n",
    "print(result)"
   ]
  },
  {
   "cell_type": "code",
   "execution_count": null,
   "id": "7adc65b3",
   "metadata": {},
   "outputs": [],
   "source": []
  },
  {
   "cell_type": "markdown",
   "id": "11eeb0fe",
   "metadata": {},
   "source": [
    "### 2. There is an array of n integers. There are also 2 disjoint sets, A and B, each containing m integers. You like all the integers in set A and dislike all the integers in set B. Your initial happiness is 0. For each i integer in the array, if i belongs to A, you add 1 to your happiness. If i belongs to B, you add -1 to your happiness. Otherwise, your happiness does not change. Output your final happiness at the end.\n",
    "\n",
    "- Note: Since A and B are sets, they have no repeated elements. However, the array might contain duplicate elements."
   ]
  },
  {
   "cell_type": "code",
   "execution_count": 40,
   "id": "172c6c3e",
   "metadata": {},
   "outputs": [
    {
     "name": "stdout",
     "output_type": "stream",
     "text": [
      "5 2\n",
      "4 5 6 2 7\n",
      "3 4\n",
      "2 1\n",
      "0\n"
     ]
    }
   ],
   "source": [
    "integers=list(map(int, input().split()))\n",
    "n=integers[0]\n",
    "m=integers[1]\n",
    "array=list(map(int, input().split( )))\n",
    "A=set(map(int, input().split( )))\n",
    "B=set(map(int, input().split( )))\n",
    "\n",
    "count=0\n",
    "for i in array:\n",
    "    if i in A:\n",
    "        count=count+1\n",
    "    elif i in B:\n",
    "        count=count-1\n",
    "print(count)"
   ]
  },
  {
   "cell_type": "code",
   "execution_count": null,
   "id": "8175bc7f",
   "metadata": {},
   "outputs": [],
   "source": []
  },
  {
   "cell_type": "markdown",
   "id": "03adb153",
   "metadata": {},
   "source": [
    "### 3. Given 2 sets of integers, M and N, print their symmetric difference in ascending order.\n",
    "- The term symmetric difference indicates those values that exist in either M or N but do not exist in both."
   ]
  },
  {
   "cell_type": "code",
   "execution_count": 50,
   "id": "719b2219",
   "metadata": {},
   "outputs": [
    {
     "name": "stdout",
     "output_type": "stream",
     "text": [
      "4\n",
      "5 6 7 -20\n",
      "5\n",
      "-29 4 5 6 7\n"
     ]
    },
    {
     "data": {
      "text/plain": [
       "{-29, -20, 4}"
      ]
     },
     "execution_count": 50,
     "metadata": {},
     "output_type": "execute_result"
    }
   ],
   "source": [
    "M=int(input())\n",
    "set_A=set(map(int, input().split( )))\n",
    "N=int(input())\n",
    "set_B=set(map(int, input().split( )))\n",
    "set_A.symmetric_difference(set_B)"
   ]
  },
  {
   "cell_type": "code",
   "execution_count": 53,
   "id": "13c27ac4",
   "metadata": {},
   "outputs": [
    {
     "name": "stdout",
     "output_type": "stream",
     "text": [
      "5\n",
      "4 5 6 2 7 2\n",
      "4\n",
      "5 2 7 -10\n",
      "-10\n",
      "4\n",
      "6\n"
     ]
    }
   ],
   "source": [
    "M=int(input())\n",
    "set_A=set(map(int, input().split( )))\n",
    "N=int(input())\n",
    "set_B=set(map(int, input().split( )))\n",
    "sym_diff=set_A.symmetric_difference(set_B)\n",
    "lst=sorted(list(sym_diff))\n",
    "for i in lst:\n",
    "    print(i)"
   ]
  },
  {
   "cell_type": "code",
   "execution_count": null,
   "id": "d0a31918",
   "metadata": {},
   "outputs": [],
   "source": []
  },
  {
   "cell_type": "markdown",
   "id": "83e02453",
   "metadata": {},
   "source": [
    "### 4. Rupal has a huge collection of country stamps. She decided to count the total number of distinct country stamps in her collection. She asked for your help. You pick the stamps one by one from a stack of N country stamps.\n",
    "- Find the total number of distinct country stamps."
   ]
  },
  {
   "cell_type": "code",
   "execution_count": 58,
   "id": "89dd127b",
   "metadata": {},
   "outputs": [
    {
     "name": "stdout",
     "output_type": "stream",
     "text": [
      "5\n",
      "UK India USA Aus UK\n",
      "4\n"
     ]
    }
   ],
   "source": [
    "N=int(input())\n",
    "cntry_name=list(map(str, input().split()))\n",
    "cntry_name=set(cntry_name)\n",
    "count=len(list(cntry_name))\n",
    "print(count)"
   ]
  },
  {
   "cell_type": "code",
   "execution_count": 59,
   "id": "85e0c4cd",
   "metadata": {},
   "outputs": [
    {
     "name": "stdout",
     "output_type": "stream",
     "text": [
      "5\n",
      "UK\n",
      "India\n",
      "Japan\n",
      "Australia\n",
      "India\n",
      "4\n"
     ]
    }
   ],
   "source": [
    "N = int(input())\n",
    "cntry = set()\n",
    "for i in range(N):\n",
    "    cntry.add(input())\n",
    "print(len(cntry))"
   ]
  },
  {
   "cell_type": "code",
   "execution_count": null,
   "id": "513a52df",
   "metadata": {},
   "outputs": [],
   "source": []
  },
  {
   "cell_type": "markdown",
   "id": "a2940134",
   "metadata": {},
   "source": [
    "### 5. You are given three integers x,y and  z, representing the dimensions of a cuboid along with an integer n. Print a list of all possible coordinates given by (i,j,k) on a 3D grid where the sum of i+j+k is not equal to n.\n",
    "- Here, **0<=i<=x; 0<=j<=y; o<=k<=z**\n",
    "- Please use list comprehensions rather than multiple loops, as a learning exercise"
   ]
  },
  {
   "cell_type": "code",
   "execution_count": 60,
   "id": "820b217e",
   "metadata": {},
   "outputs": [
    {
     "name": "stdout",
     "output_type": "stream",
     "text": [
      "1\n",
      "1\n",
      "1\n",
      "2\n",
      "[[0, 0, 0], [0, 0, 1], [0, 1, 0], [1, 0, 0], [1, 1, 1]]\n"
     ]
    }
   ],
   "source": [
    "x = int(input())\n",
    "y = int(input())\n",
    "z = int(input())\n",
    "n = int(input())\n",
    "ans = [[i, j, k] for i in range(x + 1) for j in range(y + 1) for k in range(z + 1) if i + j + k != n]\n",
    "print(ans)"
   ]
  },
  {
   "cell_type": "code",
   "execution_count": null,
   "id": "f5ec5645",
   "metadata": {},
   "outputs": [],
   "source": []
  },
  {
   "cell_type": "markdown",
   "id": "cc5b43d5",
   "metadata": {},
   "source": [
    "### 6. Given the participants' score sheet for your University Sports Day, you are required to find the runner-up score. You are given n scores. Store them in a list and find the score of the runner-up."
   ]
  },
  {
   "cell_type": "code",
   "execution_count": 64,
   "id": "2ad5c73c",
   "metadata": {},
   "outputs": [
    {
     "name": "stdout",
     "output_type": "stream",
     "text": [
      "5\n",
      "4 5 2 6 6\n",
      "5\n"
     ]
    }
   ],
   "source": [
    "n = int(input())\n",
    "arr = map(int, input().split())\n",
    "arr=list(arr)\n",
    "a=max(arr)\n",
    "c=arr.count(a)\n",
    "for i in range(c):\n",
    "    arr.remove(a)\n",
    "print(max(arr))"
   ]
  },
  {
   "cell_type": "code",
   "execution_count": null,
   "id": "2dc9fd7f",
   "metadata": {},
   "outputs": [],
   "source": []
  },
  {
   "cell_type": "markdown",
   "id": "42cfcccc",
   "metadata": {},
   "source": [
    "### 7. You have a non-empty set S, and you have to execute N commands given in N lines.\n",
    "- The commands will be pop, remove and discard."
   ]
  },
  {
   "cell_type": "code",
   "execution_count": 66,
   "id": "c79801f8",
   "metadata": {},
   "outputs": [
    {
     "name": "stdout",
     "output_type": "stream",
     "text": [
      "10\n",
      "1 2 3 4 5 6 7 8 9 10\n",
      "5\n",
      "remove 9\n",
      "discard 8\n",
      "pop\n",
      "remove 6\n",
      "discard 7\n",
      "24\n"
     ]
    }
   ],
   "source": [
    "n = int(input())\n",
    "s = set(map(int, input().split()))\n",
    "N = int(input())\n",
    "for i in range(N):\n",
    "    command = list(map(str, input().split()))\n",
    "    if command[0] == \"pop\":\n",
    "        s.pop()\n",
    "    elif command[0] == \"remove\":\n",
    "        try:\n",
    "            s.remove(int(command[1]))\n",
    "        except:\n",
    "            continue\n",
    "    elif command[0] == \"discard\":\n",
    "        try:\n",
    "            s.discard(int(command[1]))\n",
    "        except:\n",
    "            continue\n",
    "print(sum(s))"
   ]
  },
  {
   "cell_type": "code",
   "execution_count": null,
   "id": "9936ca42",
   "metadata": {},
   "outputs": [],
   "source": []
  },
  {
   "cell_type": "markdown",
   "id": "2a8cee51",
   "metadata": {},
   "source": [
    "### 8. The students of District College have subscriptions to English and French newspapers. Some students have subscribed only to English, some have subscribed to only French and some have subscribed to both newspapers.\n",
    "- You are given two sets of student roll numbers. One set has subscribed to the English newspaper, and the other set is subscribed to the French newspaper. The same student could be in both sets. Your task is to find the total number of students who have subscribed to at least one newspap"
   ]
  },
  {
   "cell_type": "code",
   "execution_count": 67,
   "id": "59f09020",
   "metadata": {},
   "outputs": [
    {
     "name": "stdout",
     "output_type": "stream",
     "text": [
      "9\n",
      "1 2 3 4 5 6 7 8 9\n",
      "9\n",
      "10 1 2 3 11 21 55 6 8\n",
      "13\n"
     ]
    }
   ],
   "source": [
    "n=int(input())\n",
    "english=set(map(int, input().split()))\n",
    "m=int(input())\n",
    "french=set(map(int, input().split()))\n",
    "print(len(english.union(french)))"
   ]
  },
  {
   "cell_type": "code",
   "execution_count": null,
   "id": "4103f4cb",
   "metadata": {},
   "outputs": [],
   "source": []
  },
  {
   "cell_type": "markdown",
   "id": "f4c8753b",
   "metadata": {},
   "source": [
    "### 9. Given the names and grades for each student in a class of N students, store them in a nested list and print the name(s) of any student(s) having the second lowest grade.\n",
    "- Note: If there are multiple students with the second lowest grade, order their names alphabetically and print each name on a new line."
   ]
  },
  {
   "cell_type": "code",
   "execution_count": 69,
   "id": "9d02e434",
   "metadata": {},
   "outputs": [
    {
     "name": "stdout",
     "output_type": "stream",
     "text": [
      "5\n",
      "siya\n",
      "23.5\n",
      "piya\n",
      "34.6\n",
      "riya\n",
      "56.3\n",
      "jiya\n",
      "23.5\n",
      "miya\n",
      "34\n",
      "miya\n"
     ]
    }
   ],
   "source": [
    "dictionary={}\n",
    "lst=[]\n",
    "for students in range(int(input())):\n",
    "    name = input()\n",
    "    score = float(input())\n",
    "    if score in dictionary:\n",
    "        dictionary[score].append(name)\n",
    "    else:\n",
    "        dictionary[score]=[name]\n",
    "    if score not in lst:\n",
    "        lst.append(score)\n",
    "\n",
    "        \n",
    "a=min(lst)\n",
    "lst.remove(a)\n",
    "aa=min(lst)\n",
    "dictionary[aa].sort()\n",
    "for i in dictionary[aa]:\n",
    "    print(i)"
   ]
  },
  {
   "cell_type": "code",
   "execution_count": null,
   "id": "a78a8278",
   "metadata": {},
   "outputs": [],
   "source": []
  },
  {
   "cell_type": "markdown",
   "id": "4abac1a7",
   "metadata": {},
   "source": [
    "### 10. The students of District College have subscriptions to English and French newspapers. Some students have subscribed only to English, some have subscribed only to French, and some have subscribed to both newspapers.\n",
    "- You are given two sets of student roll numbers. One set has subscribed to the English newspaper, one set has subscribed to the French newspaper. Your task is to find the total number of students who have subscribed to both newspapers."
   ]
  },
  {
   "cell_type": "code",
   "execution_count": 70,
   "id": "390328f8",
   "metadata": {},
   "outputs": [
    {
     "name": "stdout",
     "output_type": "stream",
     "text": [
      "9\n",
      "1 2 3 4 5 6 7 8 9\n",
      "9\n",
      "31 43 1 2 3 4 6 8 9\n",
      "7\n"
     ]
    }
   ],
   "source": [
    "n=int(input())\n",
    "english=set(map(int, input().split()))\n",
    "m=int(input())\n",
    "french=set(map(int, input().split()))\n",
    "print(len(english.intersection(french)))"
   ]
  },
  {
   "cell_type": "code",
   "execution_count": null,
   "id": "216268fe",
   "metadata": {},
   "outputs": [],
   "source": []
  },
  {
   "cell_type": "markdown",
   "id": "31f06832",
   "metadata": {},
   "source": [
    "### 11. The provided code stub will read in a dictionary containing key/value pairs of name:[marks] for a list of students. Print the average of the marks array for the student name provided, showing 2 places after the decimal."
   ]
  },
  {
   "cell_type": "code",
   "execution_count": 74,
   "id": "4d905e4d",
   "metadata": {
    "scrolled": true
   },
   "outputs": [
    {
     "name": "stdout",
     "output_type": "stream",
     "text": [
      "4\n",
      "jiya 30 50 60\n",
      "piya 40 50 70\n",
      "riya 50 70 30\n",
      "siya 60 70 30\n",
      "piya\n",
      "53.33\n"
     ]
    }
   ],
   "source": [
    "n = int(input())\n",
    "student_marks = {}\n",
    "for i in range(n):\n",
    "    name, *line = input().split()\n",
    "    scores = list(map(float, line))\n",
    "    student_marks[name] = scores\n",
    "query_name = input()\n",
    "tot=0\n",
    "for i  in student_marks[query_name]:\n",
    "    tot=tot+i\n",
    "print(\"{0:.2f}\".format(tot/3))"
   ]
  },
  {
   "cell_type": "code",
   "execution_count": null,
   "id": "add5f2b2",
   "metadata": {},
   "outputs": [],
   "source": []
  },
  {
   "cell_type": "markdown",
   "id": "6cb21948",
   "metadata": {},
   "source": [
    "### 12. Consider a list (list = []). You can perform the following commands:\n",
    "1. insert i e: Insert integer  at position .\n",
    "2. print: Print the list.\n",
    "3. remove e: Delete the first occurrence of integer .\n",
    "4. append e: Insert integer  at the end of the list.\n",
    "5. sort: Sort the list.\n",
    "6. pop: Pop the last element from the list.\n",
    "7. reverse: Reverse the list.\n",
    "- Initialize your list and read in the value of n followed by n lines of commands where each command will be of the 7 types listed above. Iterate through each command in order and perform the corresponding operation on your list."
   ]
  },
  {
   "cell_type": "code",
   "execution_count": 77,
   "id": "a5f354c4",
   "metadata": {},
   "outputs": [
    {
     "name": "stdout",
     "output_type": "stream",
     "text": [
      "12\n",
      "insert 0 5\n",
      "insert 1 10\n",
      "insert 0 6\n",
      "print\n",
      "[6, 5, 10]\n",
      "remove 6\n",
      "append 9\n",
      "append 1\n",
      "sort\n",
      "print\n",
      "[1, 5, 9, 10]\n",
      "pop\n",
      "reverse\n",
      "print\n",
      "[9, 5, 1]\n"
     ]
    }
   ],
   "source": [
    "N = int(input())\n",
    "lst=[]\n",
    "for i in range(N):\n",
    "    s=input().split()\n",
    "    for i in range(1, len(s)):\n",
    "        s[i]=int(s[i])\n",
    "            \n",
    "    if s[0]==\"append\":\n",
    "        lst.append(s[1])\n",
    "    elif s[0]==\"insert\":\n",
    "        lst.insert(s[1],s[2])\n",
    "    elif s[0]==\"remove\":\n",
    "        lst.remove(s[1])\n",
    "    elif s[0]==\"pop\":\n",
    "        lst.pop()\n",
    "    elif s[0]==\"sort\":\n",
    "        lst.sort()\n",
    "    elif s[0]==\"reverse\":\n",
    "        lst.reverse()\n",
    "    elif s[0]==\"print\":\n",
    "        print(lst)"
   ]
  },
  {
   "cell_type": "code",
   "execution_count": null,
   "id": "00827453",
   "metadata": {},
   "outputs": [],
   "source": []
  },
  {
   "cell_type": "markdown",
   "id": "19cb8550",
   "metadata": {},
   "source": [
    "### 13. Students of District College have a subscription to English and French newspapers. Some students have subscribed to only the English newspaper, some have subscribed to only the French newspaper, and some have subscribed to both newspapers.\n",
    "- You are given two sets of student roll numbers. One set has subscribed to the English newspaper, and one set has subscribed to the French newspaper. Your task is to find the total number of students who have subscribed to only English newspapers"
   ]
  },
  {
   "cell_type": "code",
   "execution_count": 78,
   "id": "59b0d3b3",
   "metadata": {},
   "outputs": [
    {
     "name": "stdout",
     "output_type": "stream",
     "text": [
      "9\n",
      "1 2 3 4 5 6 7 8 9\n",
      "9\n",
      "10 1 2 3 11 21 55 6 8\n",
      "4\n"
     ]
    }
   ],
   "source": [
    "n=int(input())\n",
    "english=set(map(int, input().split()))\n",
    "m=int(input())\n",
    "french=set(map(int, input().split()))\n",
    "print(len(english.difference(french)))"
   ]
  },
  {
   "cell_type": "code",
   "execution_count": null,
   "id": "106a0217",
   "metadata": {},
   "outputs": [],
   "source": []
  },
  {
   "cell_type": "markdown",
   "id": "2c190ccc",
   "metadata": {},
   "source": [
    "### 14. Students of District College have subscriptions to English and French newspapers. Some students have subscribed to English only, some have subscribed to French only, and some have subscribed to both newspapers.\n",
    "- You are given two sets of student roll numbers. One set has subscribed to the English newspaper, and one set has subscribed to the French newspaper. Your task is to find the total number of students who have subscribed to either the English or the French newspaper but not both."
   ]
  },
  {
   "cell_type": "code",
   "execution_count": 79,
   "id": "19b894a7",
   "metadata": {},
   "outputs": [
    {
     "name": "stdout",
     "output_type": "stream",
     "text": [
      "9\n",
      "1 2 3 4 5 6 7 8 9\n",
      "9\n",
      "10 1 2 3 11 21 55 6 8\n",
      "8\n"
     ]
    }
   ],
   "source": [
    "n=int(input())\n",
    "english=set(map(int, input().split()))\n",
    "m=int(input())\n",
    "french=set(map(int, input().split()))\n",
    "print(len(english.symmetric_difference(french)))"
   ]
  },
  {
   "cell_type": "code",
   "execution_count": null,
   "id": "07ba3825",
   "metadata": {},
   "outputs": [],
   "source": []
  },
  {
   "cell_type": "markdown",
   "id": "119d6f1d",
   "metadata": {},
   "source": [
    "### 15. Given an integer, n, and n space-separated integers as input, create a tuple, t, of those n integers. Then compute and print the result of hast(t).\n",
    "- Note: hash() is one of the functions in the __builtins__ module, so it need not be imported."
   ]
  },
  {
   "cell_type": "code",
   "execution_count": 80,
   "id": "0a8d9bb8",
   "metadata": {},
   "outputs": [
    {
     "name": "stdout",
     "output_type": "stream",
     "text": [
      "2\n",
      "1 2\n",
      "-3550055125485641917\n"
     ]
    }
   ],
   "source": [
    "n = int(input())\n",
    "integer_list = map(int, input().split())\n",
    "integer_list=tuple(integer_list)\n",
    "print(hash(integer_list))"
   ]
  },
  {
   "cell_type": "code",
   "execution_count": null,
   "id": "35110b0c",
   "metadata": {},
   "outputs": [],
   "source": []
  },
  {
   "cell_type": "markdown",
   "id": "72424d59",
   "metadata": {},
   "source": [
    "### 16. You are given two sets,  A and B.\n",
    "- Your job is to find whether set A is a subset of set B.\n",
    "- If set A is subset of set B, print True.\n",
    "- If set A is not a subset of set B, print False."
   ]
  },
  {
   "cell_type": "code",
   "execution_count": 84,
   "id": "c2f4339a",
   "metadata": {},
   "outputs": [
    {
     "name": "stdout",
     "output_type": "stream",
     "text": [
      "3\n",
      "5\n",
      "1 2 3 5 6\n",
      "9\n",
      "9 8 5 6 3 2 1 4 7\n",
      "True\n",
      "1\n",
      "2\n",
      "5\n",
      "3 6 5 4 1\n",
      "False\n",
      "7\n",
      "1 2 3 5 6 8 9\n",
      "3\n",
      "9 8 2\n",
      "False\n"
     ]
    }
   ],
   "source": [
    "for i in range(int(input())):\n",
    "    a = int(input())\n",
    "    set_a = set(map(int, input().split()))\n",
    "    b = int(input())\n",
    "    set_b = set(map(int, input().split()))\n",
    "    if len(set_a - set_b) == 0:\n",
    "        print(\"True\")\n",
    "    else:\n",
    "        print(\"False\")"
   ]
  },
  {
   "cell_type": "code",
   "execution_count": null,
   "id": "c0404a43",
   "metadata": {},
   "outputs": [],
   "source": []
  },
  {
   "cell_type": "markdown",
   "id": "3e0f7025",
   "metadata": {},
   "source": [
    "### 17. You are given a set A and N number of other sets. These N number of sets have to perform some specific mutation operations on set A.\n",
    "- Your task is to execute those operations and print the sum of elements from set A."
   ]
  },
  {
   "cell_type": "code",
   "execution_count": 86,
   "id": "0c2f3112",
   "metadata": {},
   "outputs": [
    {
     "name": "stdout",
     "output_type": "stream",
     "text": [
      "16\n",
      "1 2 3 4 5 6 7 8 9 10 11 12 13 14 24 52\n",
      "4\n",
      "intersection_update 10\n",
      "2 3 5 6 8 9 1 4 7 11\n",
      "update 2\n",
      "55 66\n",
      "symmetric_difference_update 5\n",
      "22 7 35 62 58\n",
      "difference_update 7\n",
      "11 22 35 55 58 62 66\n",
      "38\n"
     ]
    }
   ],
   "source": [
    "n=int(input())\n",
    "A=set(map(int, input().split()))\n",
    "N=int(input())\n",
    "for i in range(N):\n",
    "    command=list(map(str, input().split()))\n",
    "    if command[0]=='update':\n",
    "        A.update(set(map(int, input().split())))\n",
    "    elif command[0]=='intersection_update':\n",
    "        A.intersection_update(set(map(int, input().split())))\n",
    "    elif command[0]=='difference_update':\n",
    "        A.difference_update(set(map(int, input().split())))\n",
    "    elif command[0]=='symmetric_difference_update':\n",
    "        A.symmetric_difference_update(set(map(int, input().split())))\n",
    "print(sum(A))"
   ]
  },
  {
   "cell_type": "code",
   "execution_count": null,
   "id": "d8a10116",
   "metadata": {},
   "outputs": [],
   "source": []
  },
  {
   "cell_type": "markdown",
   "id": "53ac2eae",
   "metadata": {},
   "source": [
    "### 18. You are given a set A and N other sets.\n",
    "- Your job is to find whether set A is a strict superset of each of the N sets.\n",
    "- Print True, if A is a strict superset of each of the N sets. Otherwise, print False.\n",
    "\n",
    "**Note- A strict superset has at least one element that does not exist in its subset.**"
   ]
  },
  {
   "cell_type": "code",
   "execution_count": 87,
   "id": "1bdedf49",
   "metadata": {},
   "outputs": [
    {
     "name": "stdout",
     "output_type": "stream",
     "text": [
      "1 2 3 4 5 6 7 8 9 10 11 12 23 45 84 78\n",
      "2\n",
      "1 2 3 4 5\n",
      "100 11 12\n",
      "False\n"
     ]
    }
   ],
   "source": [
    "A=set(map(int, input().split()))\n",
    "n=int(input())\n",
    "\n",
    "N1=set(map(int, input().split()))\n",
    "N2=set(map(int, input().split()))    \n",
    "if (A.issuperset(N1)) and (A.issuperset(N2)):\n",
    "    print(True)\n",
    "else:\n",
    "    print(False)"
   ]
  },
  {
   "cell_type": "code",
   "execution_count": null,
   "id": "7c1784a3",
   "metadata": {},
   "outputs": [],
   "source": []
  },
  {
   "cell_type": "markdown",
   "id": "504f6e0f",
   "metadata": {},
   "source": [
    "### 19. Mr. Anant Asankhya is the manager at the INFINITE hotel. The hotel has an infinite amount of rooms.\n",
    "- One fine day, a finite number of tourists come to stay at the hotel.\n",
    "- The tourists consist of:\n",
    "     * A Captain.\n",
    "     * An unknown group of families consisting of K members per group where K ≠ 1.\n",
    "- The Captain was given a separate room, and the rest were given one room per group.\n",
    "- Mr. Anant has an unordered list of randomly arranged room entries. The list consists of the room numbers for all of the tourists. The room numbers will appear K times per group except for the Captain's room.\n",
    "- Mr. Anant needs you to help him find the Captain's room number.\n",
    "- The total number of tourists or the total number of groups of families is not known to you.\n",
    "- You only know the value of K and the room number list."
   ]
  },
  {
   "cell_type": "code",
   "execution_count": 101,
   "id": "14504d91",
   "metadata": {},
   "outputs": [
    {
     "name": "stdout",
     "output_type": "stream",
     "text": [
      "3\n",
      "1 2 3 1 2 3 1 2 3 4\n",
      "4\n"
     ]
    }
   ],
   "source": [
    "K=int(input())\n",
    "room_list=list(map(int, input().split()))\n",
    "unique_rooms=dict()\n",
    "for i in room_list:\n",
    "    if i not in unique_rooms:\n",
    "        unique_rooms[i]=1\n",
    "    else:\n",
    "        unique_rooms[i]+=1\n",
    "        \n",
    "for room_no, count in unique_rooms.items():\n",
    "    if count==1:\n",
    "        print(room_no)"
   ]
  }
 ],
 "metadata": {
  "kernelspec": {
   "display_name": "python3.11",
   "language": "python",
   "name": "python3.11"
  },
  "language_info": {
   "codemirror_mode": {
    "name": "ipython",
    "version": 3
   },
   "file_extension": ".py",
   "mimetype": "text/x-python",
   "name": "python",
   "nbconvert_exporter": "python",
   "pygments_lexer": "ipython3",
   "version": "3.9.7"
  }
 },
 "nbformat": 4,
 "nbformat_minor": 5
}
