{
 "cells": [
  {
   "attachments": {
    "1440141121-5b051fd241-Capture.png": {
     "image/png": "[encoded data removed]"
    }
   },
   "cell_type": "markdown",
   "id": "6a81f4a8",
   "metadata": {},
   "source": [
    "### 1. You are given a complex Z. Your task is to convert it to polar coordinates.\n",
    "![1440141121-5b051fd241-Capture.png](attachment:1440141121-5b051fd241-Capture.png)"
   ]
  },
  {
   "cell_type": "code",
   "execution_count": 6,
   "id": "831c014e",
   "metadata": {},
   "outputs": [
    {
     "name": "stdout",
     "output_type": "stream",
     "text": [
      "1+2j\n",
      "2.23606797749979\n",
      "1.1071487177940904\n"
     ]
    }
   ],
   "source": [
    "import cmath\n",
    "z=complex(input())\n",
    "print(abs(z))\n",
    "print(cmath.phase(z))"
   ]
  },
  {
   "cell_type": "code",
   "execution_count": null,
   "id": "b5ea2023",
   "metadata": {},
   "outputs": [],
   "source": []
  },
  {
   "attachments": {
    "1440151155-10b2b748ee-rsz_1438840048-2cf71ed69d-findangle.png": {
     "image/png": "[encoded data removed]"
    }
   },
   "cell_type": "markdown",
   "id": "dbc8132b",
   "metadata": {},
   "source": [
    "### 2. ABC is a right triangle,  90 degrees at B. Therefore, angle ABC=90 degrees.\n",
    "- Point M is the midpoint of hypotenuse AC.\n",
    "- You are given the lengths AB and BC.\n",
    "- Your task is to find angle MBC, as shown in the figure) in degrees.\n",
    "![1440151155-10b2b748ee-rsz_1438840048-2cf71ed69d-findangle.png](attachment:1440151155-10b2b748ee-rsz_1438840048-2cf71ed69d-findangle.png)"
   ]
  },
  {
   "cell_type": "code",
   "execution_count": 8,
   "id": "2f96b6bc",
   "metadata": {},
   "outputs": [
    {
     "name": "stdout",
     "output_type": "stream",
     "text": [
      "10\n",
      "10\n",
      "45°\n"
     ]
    }
   ],
   "source": [
    "import math\n",
    "AB = int(input())\n",
    "BC = int(input())\n",
    "MB = math.sqrt(AB**2+BC**2)\n",
    "angle = math.acos(BC/MB)\n",
    "print(int(round(math.degrees(angle),0)),'\\u00B0',sep='')"
   ]
  },
  {
   "cell_type": "code",
   "execution_count": null,
   "id": "e0afd0ad",
   "metadata": {},
   "outputs": [],
   "source": []
  },
  {
   "cell_type": "markdown",
   "id": "405e2ecd",
   "metadata": {},
   "source": [
    "### 3. You are given a positive integer N. Print a numerical triangle of height N-1."
   ]
  },
  {
   "cell_type": "code",
   "execution_count": 9,
   "id": "751a000f",
   "metadata": {},
   "outputs": [
    {
     "name": "stdout",
     "output_type": "stream",
     "text": [
      "10\n",
      "1\n",
      "22\n",
      "333\n",
      "4444\n",
      "55555\n",
      "666666\n",
      "7777777\n",
      "88888888\n",
      "999999999\n"
     ]
    }
   ],
   "source": [
    "for i in range(1,int(input())):\n",
    "    print(i*((10**i-1)//9))"
   ]
  },
  {
   "cell_type": "code",
   "execution_count": null,
   "id": "09e5f9ca",
   "metadata": {},
   "outputs": [],
   "source": []
  },
  {
   "cell_type": "markdown",
   "id": "c96e86c4",
   "metadata": {},
   "source": [
    "### 4. You are given a positive integer N.Your task is to print a palindromic triangle of size N."
   ]
  },
  {
   "cell_type": "code",
   "execution_count": 13,
   "id": "fc445346",
   "metadata": {},
   "outputs": [
    {
     "name": "stdout",
     "output_type": "stream",
     "text": [
      "10\n",
      "1\n",
      "121\n",
      "12321\n",
      "1234321\n",
      "123454321\n",
      "12345654321\n",
      "1234567654321\n",
      "123456787654321\n",
      "12345678987654321\n",
      "1234567900987654321\n"
     ]
    }
   ],
   "source": [
    "for i in range(1,int(input())+1):\n",
    "    print(((10**i-1)**2//81))"
   ]
  },
  {
   "cell_type": "code",
   "execution_count": null,
   "id": "7a4e610b",
   "metadata": {},
   "outputs": [],
   "source": []
  },
  {
   "cell_type": "markdown",
   "id": "0c5cabfd",
   "metadata": {},
   "source": [
    "### 5. You are given three integers: a, b, and m. Print two lines.On the first line, print the result of pow(a,b). On the second line, print the result of pow(a,b,m)."
   ]
  },
  {
   "cell_type": "code",
   "execution_count": 14,
   "id": "06c7bc30",
   "metadata": {},
   "outputs": [
    {
     "name": "stdout",
     "output_type": "stream",
     "text": [
      "3\n",
      "4\n",
      "5\n",
      "81\n",
      "1\n"
     ]
    }
   ],
   "source": [
    "a=int(input())\n",
    "b=int(input())\n",
    "m=int(input())\n",
    "print(pow(a,b))\n",
    "print(pow(a,b,m))"
   ]
  },
  {
   "cell_type": "code",
   "execution_count": null,
   "id": "f235b5f8",
   "metadata": {},
   "outputs": [],
   "source": []
  },
  {
   "cell_type": "markdown",
   "id": "2eb9ae6e",
   "metadata": {},
   "source": [
    "### 6. Read in two integers, a and b, and print three lines.\n",
    "- The first line is the integer division a//b (While using Python2 remember to import division from __future__).\n",
    "- The second line is the result of the modulo operator: a%b.\n",
    "- The third line prints the divmod of a and b."
   ]
  },
  {
   "cell_type": "code",
   "execution_count": 16,
   "id": "f90324c6",
   "metadata": {},
   "outputs": [
    {
     "name": "stdout",
     "output_type": "stream",
     "text": [
      "177\n",
      "10\n",
      "17\n",
      "7\n",
      "(17, 7)\n"
     ]
    }
   ],
   "source": [
    "a=int(input())\n",
    "b=int(input())\n",
    "print(a//b)\n",
    "print(a%b)\n",
    "print(divmod(a,b))"
   ]
  },
  {
   "cell_type": "code",
   "execution_count": null,
   "id": "2cba61d1",
   "metadata": {},
   "outputs": [],
   "source": []
  },
  {
   "cell_type": "markdown",
   "id": "820646c3",
   "metadata": {},
   "source": [
    "### 7. Read four numbers, a, b, c, and d, and print the result of a^b+c^d."
   ]
  },
  {
   "cell_type": "code",
   "execution_count": 17,
   "id": "3fc4ed3f",
   "metadata": {},
   "outputs": [
    {
     "name": "stdout",
     "output_type": "stream",
     "text": [
      "9\n",
      "29\n",
      "7\n",
      "27\n",
      "4710194409608608369201743232\n"
     ]
    }
   ],
   "source": [
    "a=int(input())\n",
    "b=int(input())\n",
    "c=int(input())\n",
    "d=int(input())\n",
    "print(pow(a,b)+pow(c,d))"
   ]
  },
  {
   "cell_type": "code",
   "execution_count": null,
   "id": "788cce96",
   "metadata": {},
   "outputs": [],
   "source": []
  }
 ],
 "metadata": {
  "kernelspec": {
   "display_name": "python3.11",
   "language": "python",
   "name": "python3.11"
  },
  "language_info": {
   "codemirror_mode": {
    "name": "ipython",
    "version": 3
   },
   "file_extension": ".py",
   "mimetype": "text/x-python",
   "name": "python",
   "nbconvert_exporter": "python",
   "pygments_lexer": "ipython3",
   "version": "3.9.7"
  }
 },
 "nbformat": 4,
 "nbformat_minor": 5
}
