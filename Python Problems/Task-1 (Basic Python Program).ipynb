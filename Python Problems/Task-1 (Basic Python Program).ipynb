{
 "cells": [
  {
   "cell_type": "markdown",
   "id": "4c593867",
   "metadata": {},
   "source": [
    "### 1. Hello World Program"
   ]
  },
  {
   "cell_type": "code",
   "execution_count": 1,
   "id": "f8fed9e2",
   "metadata": {},
   "outputs": [
    {
     "name": "stdout",
     "output_type": "stream",
     "text": [
      "Hello, World!\n"
     ]
    }
   ],
   "source": [
    "print(\"Hello, World!\")"
   ]
  },
  {
   "cell_type": "code",
   "execution_count": null,
   "id": "7b1c5d64",
   "metadata": {},
   "outputs": [],
   "source": []
  },
  {
   "cell_type": "markdown",
   "id": "dd21f803",
   "metadata": {},
   "source": [
    "### 2.  Given an integer, , perform the following conditional actions:\n",
    "- If \"n\" is odd, print Weird\n",
    "- If \"n\" is even and in the inclusive range of 2 to 5, print Not Weird\n",
    "- If \"n\" is even and in the inclusive range of 6 to 20, print Weird\n",
    "- If \"n\" is even and greater than 20, print Not Weird"
   ]
  },
  {
   "cell_type": "code",
   "execution_count": 15,
   "id": "95942b55",
   "metadata": {},
   "outputs": [
    {
     "name": "stdout",
     "output_type": "stream",
     "text": [
      "20\n",
      "Weird\n"
     ]
    }
   ],
   "source": [
    "n = int(input().strip())\n",
    "if (n%2!=0) or (20>=n>=6):\n",
    "    print(\"Weird\")\n",
    "else:\n",
    "    print(\"Not Weird\")"
   ]
  },
  {
   "cell_type": "code",
   "execution_count": null,
   "id": "17877a1e",
   "metadata": {},
   "outputs": [],
   "source": []
  },
  {
   "cell_type": "markdown",
   "id": "091390ac",
   "metadata": {},
   "source": [
    "### 3. The provided code stub reads two integers from STDIN, a and b. Add code to print three lines where:\n",
    "- The first line contains the sum of the two numbers.\n",
    "- The second line contains the difference of the two numbers (first - second).\n",
    "- The third line contains the product of the two numbers"
   ]
  },
  {
   "cell_type": "code",
   "execution_count": 16,
   "id": "d75e09f2",
   "metadata": {},
   "outputs": [
    {
     "name": "stdout",
     "output_type": "stream",
     "text": [
      "12\n",
      "-5\n",
      "7\n",
      "17\n",
      "-60\n"
     ]
    }
   ],
   "source": [
    "a = int(input())\n",
    "b = int(input())\n",
    "print(a+b)\n",
    "print(a-b)\n",
    "print(a*b)"
   ]
  },
  {
   "cell_type": "code",
   "execution_count": null,
   "id": "9de36ab5",
   "metadata": {},
   "outputs": [],
   "source": []
  },
  {
   "cell_type": "markdown",
   "id": "d17dc07c",
   "metadata": {},
   "source": [
    "### 4. The provided code stub reads two integers, a and b, from STDIN.\n",
    "- Add logic to print two lines. \n",
    "- The first line should contain the result of integer division,  a//b.\n",
    "- The second line should contain the result of float division,  a/b.\n",
    "**No rounding or formatting is necessary.**"
   ]
  },
  {
   "cell_type": "code",
   "execution_count": 17,
   "id": "da42549a",
   "metadata": {},
   "outputs": [
    {
     "name": "stdout",
     "output_type": "stream",
     "text": [
      "12\n",
      "5\n",
      "2\n",
      "2.4\n"
     ]
    }
   ],
   "source": [
    "a = int(input())\n",
    "b = int(input())\n",
    "print(a//b)\n",
    "print(a/b)"
   ]
  },
  {
   "cell_type": "code",
   "execution_count": null,
   "id": "c9db6ff9",
   "metadata": {},
   "outputs": [],
   "source": []
  },
  {
   "cell_type": "markdown",
   "id": "3b2c32ea",
   "metadata": {},
   "source": [
    "### 5. The provided code stub reads and integer, n, from STDIN. For all non-negative integers i, print i**2."
   ]
  },
  {
   "cell_type": "code",
   "execution_count": 18,
   "id": "3255ab88",
   "metadata": {},
   "outputs": [
    {
     "name": "stdout",
     "output_type": "stream",
     "text": [
      "5\n",
      "0\n",
      "1\n",
      "4\n",
      "9\n",
      "16\n"
     ]
    }
   ],
   "source": [
    "n = int(input())\n",
    "for i in range(n):\n",
    "    print(i*i)"
   ]
  },
  {
   "cell_type": "code",
   "execution_count": null,
   "id": "d056b5f4",
   "metadata": {},
   "outputs": [],
   "source": []
  },
  {
   "cell_type": "markdown",
   "id": "10bfb352",
   "metadata": {},
   "source": [
    "### 6. Given a year, determine whether it is a leap year. If it is a leap year, return the Boolean True, otherwise return False."
   ]
  },
  {
   "cell_type": "code",
   "execution_count": 27,
   "id": "dbbc8e1a",
   "metadata": {},
   "outputs": [
    {
     "name": "stdout",
     "output_type": "stream",
     "text": [
      "1900\n",
      "False\n"
     ]
    }
   ],
   "source": [
    "def is_leap(year):\n",
    "    if (year%400==0) and (year%100==0):\n",
    "        leap=True\n",
    "    elif (year%4==0) and (year%100!=0):\n",
    "        leap=True\n",
    "    else:\n",
    "        leap=False\n",
    "          \n",
    "    return leap\n",
    "\n",
    "year = int(input())\n",
    "print(is_leap(year))"
   ]
  },
  {
   "cell_type": "code",
   "execution_count": null,
   "id": "a6c332b3",
   "metadata": {},
   "outputs": [],
   "source": []
  },
  {
   "cell_type": "markdown",
   "id": "943fb9fc",
   "metadata": {},
   "source": [
    "### 7. The included code stub will read an integer, , from STDIN.\n",
    "- Without using any string methods, try to print the following: **123......n**\n",
    "- Note that \"....\" represents the consecutive values in between."
   ]
  },
  {
   "cell_type": "code",
   "execution_count": 28,
   "id": "65bbf114",
   "metadata": {},
   "outputs": [
    {
     "name": "stdout",
     "output_type": "stream",
     "text": [
      "6\n",
      "123456"
     ]
    }
   ],
   "source": [
    "n = int(input())\n",
    "for i in range(1, n+1):\n",
    "    print(i, end=\"\")"
   ]
  },
  {
   "cell_type": "code",
   "execution_count": null,
   "id": "be820698",
   "metadata": {},
   "outputs": [],
   "source": []
  }
 ],
 "metadata": {
  "kernelspec": {
   "display_name": "python3.11",
   "language": "python",
   "name": "python3.11"
  },
  "language_info": {
   "codemirror_mode": {
    "name": "ipython",
    "version": 3
   },
   "file_extension": ".py",
   "mimetype": "text/x-python",
   "name": "python",
   "nbconvert_exporter": "python",
   "pygments_lexer": "ipython3",
   "version": "3.9.7"
  }
 },
 "nbformat": 4,
 "nbformat_minor": 5
}
