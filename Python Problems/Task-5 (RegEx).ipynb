{
 "cells": [
  {
   "cell_type": "markdown",
   "id": "054e53af",
   "metadata": {},
   "source": [
    "### 1. You are given a string N, Your task is to verify that N is a floating point number.\n",
    "In this task, a valid float number must satisfy all of the following requirements:\n",
    "- Number can start with +, - or . symbol.\n",
    "- Number must contain at least 1 decimal value.\n",
    "- Number must have exactly one . symbol.\n",
    "- Number must not give any exceptions when converted using float(N)."
   ]
  },
  {
   "cell_type": "code",
   "execution_count": 1,
   "id": "c23857b4",
   "metadata": {},
   "outputs": [],
   "source": [
    "import re"
   ]
  },
  {
   "cell_type": "code",
   "execution_count": 22,
   "id": "7da66fce",
   "metadata": {},
   "outputs": [
    {
     "name": "stdout",
     "output_type": "stream",
     "text": [
      "5\n",
      "-4.0\n",
      "True\n",
      ".04\n",
      "True\n",
      "+4.\n",
      "False\n",
      "-4.942\n",
      "True\n",
      "5\n",
      "False\n"
     ]
    }
   ],
   "source": [
    "test=int(input())\n",
    "for i in range(test):\n",
    "    print(re.search('([-\\+])?\\d*\\.\\d+', input()) is not None)"
   ]
  },
  {
   "cell_type": "code",
   "execution_count": null,
   "id": "98361df4",
   "metadata": {},
   "outputs": [],
   "source": []
  },
  {
   "cell_type": "markdown",
   "id": "a8ed36a6",
   "metadata": {},
   "source": [
    "### 2. You are given a string S consisting only of digits 0-9, commas  and dots .\n",
    "- Your task is to complete the regex_pattern defined below, which will be used to re.split() all of the , and . symbols in S.\n",
    "- It’s guaranteed that every comma and every dot in  is preceeded and followed by a digit."
   ]
  },
  {
   "cell_type": "code",
   "execution_count": 21,
   "id": "cfb9fb3c",
   "metadata": {},
   "outputs": [
    {
     "name": "stdout",
     "output_type": "stream",
     "text": [
      "6472.8392,72112,8310.9391.\n",
      "6472\n",
      "8392\n",
      "72112\n",
      "8310\n",
      "9391\n",
      "\n"
     ]
    }
   ],
   "source": [
    "regex_pattern = \"[.,]+\"\n",
    "print(\"\\n\".join(re.split(regex_pattern, input())))"
   ]
  },
  {
   "cell_type": "code",
   "execution_count": null,
   "id": "c7998dec",
   "metadata": {},
   "outputs": [],
   "source": []
  },
  {
   "cell_type": "markdown",
   "id": "aa15f975",
   "metadata": {},
   "source": [
    "### 3. You are given a string S.\n",
    "- Your task is to find the first occurrence of an alphanumeric character in S (read from left to right) that has consecutive repetitions."
   ]
  },
  {
   "cell_type": "code",
   "execution_count": 25,
   "id": "ba104de8",
   "metadata": {},
   "outputs": [
    {
     "name": "stdout",
     "output_type": "stream",
     "text": [
      "12345678910111213141516171820212223\n",
      "1\n"
     ]
    }
   ],
   "source": [
    "pattern=r\"([a-zA-Z0-9])\\1+\"\n",
    "string=input()\n",
    "res = re.search(pattern, string)\n",
    "if res:\n",
    "    print(res.group(1))\n",
    "else:\n",
    "    print(-1)"
   ]
  },
  {
   "cell_type": "code",
   "execution_count": null,
   "id": "82c01763",
   "metadata": {},
   "outputs": [],
   "source": []
  },
  {
   "cell_type": "markdown",
   "id": "92e2f33d",
   "metadata": {},
   "source": [
    "### 4. You are given a string S. It consists of alphanumeric characters, spaces and symbols(+,-).\n",
    "- Your task is to find all the substrings of S that contains 2 or more vowels.\n",
    "- Also, these substrings must lie in between 2 consonants and should contain vowels only.\n",
    "\n",
    "**Note**:\n",
    "\n",
    "    - Vowels are defined as: AEIOU and aeiou.\n",
    "    - Consonants are defined as: QWRTYPSDFGHJKLZXCVBNM and qwrtypsdfghjklzxcvbnm."
   ]
  },
  {
   "cell_type": "code",
   "execution_count": 26,
   "id": "3505cd74",
   "metadata": {},
   "outputs": [
    {
     "name": "stdout",
     "output_type": "stream",
     "text": [
      "rabcdeefgyYhFjkIoomnpOeorteeeeet\n",
      "ee\n",
      "Ioo\n",
      "Oeo\n",
      "eeeee\n"
     ]
    }
   ],
   "source": [
    "string=input().strip()\n",
    "res=re.findall(r'(?<=[qwrtypsdfghjklzxcvbnm])([aeiou]{2,})(?=[qwrtypsdfghjklzxcvbnm])', string, re.IGNORECASE)\n",
    "if res:\n",
    "    for i in res:\n",
    "        print(i)\n",
    "else:\n",
    "    print(-1)"
   ]
  },
  {
   "cell_type": "code",
   "execution_count": null,
   "id": "2c85810a",
   "metadata": {},
   "outputs": [],
   "source": []
  },
  {
   "cell_type": "markdown",
   "id": "b80fa0c9",
   "metadata": {},
   "source": [
    "### 5. You are given a string S.\n",
    "- Your task is to find the indices of the start and end of string k in S."
   ]
  },
  {
   "cell_type": "code",
   "execution_count": 30,
   "id": "18ca3d42",
   "metadata": {},
   "outputs": [
    {
     "name": "stdout",
     "output_type": "stream",
     "text": [
      "adaaaaddadaa\n",
      "aa\n",
      "(2, 3)\n",
      "(3, 4)\n",
      "(4, 5)\n",
      "(10, 11)\n"
     ]
    }
   ],
   "source": [
    "import re\n",
    "S, k = input(), input()\n",
    "matching=re.finditer(r'(?=(' + k + '))', S)\n",
    "res = False\n",
    "for match in matching:\n",
    "    res = True\n",
    "    print((match.start(1), match.end(1)-1))\n",
    "\n",
    "if res == False:\n",
    "    print((-1, -1))"
   ]
  },
  {
   "cell_type": "code",
   "execution_count": null,
   "id": "8a7b7b75",
   "metadata": {},
   "outputs": [],
   "source": []
  },
  {
   "cell_type": "markdown",
   "id": "326aa5b4",
   "metadata": {},
   "source": [
    "### 6. You are given a text of N lines. The text contains && and || symbols.\n",
    "- Your task is to modify those symbols to the following:\n",
    "1. **&& → and**\n",
    "2. **|| → or**\n",
    "- Both && and || should have a space \" \" on both sides."
   ]
  },
  {
   "cell_type": "code",
   "execution_count": 13,
   "id": "45f998fd",
   "metadata": {},
   "outputs": [
    {
     "name": "stdout",
     "output_type": "stream",
     "text": [
      "4\n",
      "suraj || Raman likes python && HTML\n",
      "suraj or Raman likes python and HTML\n",
      "Suraj either like pythom || HTML\n",
      "Suraj either like pythom or HTML\n",
      "Raman likes both Python && HTML\n",
      "Raman likes both Python and HTML\n",
      "both dont like java | an anaconda app & are busy with google colab\n",
      "both dont like java | an anaconda app & are busy with google colab\n"
     ]
    }
   ],
   "source": [
    "def substitute(match):\n",
    "    if match.group(1) == '&&':\n",
    "        return 'and'\n",
    "    else:\n",
    "        return 'or'\n",
    "\n",
    "\n",
    "N=int(input())\n",
    "for i in range(N):\n",
    "    S=input()\n",
    "    print(re.sub(r\"(?<= )(\\|\\||&&)(?= )\", substitute, S))"
   ]
  },
  {
   "cell_type": "code",
   "execution_count": null,
   "id": "72a9353c",
   "metadata": {},
   "outputs": [],
   "source": []
  },
  {
   "cell_type": "markdown",
   "id": "a3edccc5",
   "metadata": {},
   "source": [
    "### 7. You are given a string, and you have to validate whether it's a valid Roman numeral. If it is valid, print True. Otherwise, print False. Try to create a regular expression for a valid Roman numeral."
   ]
  },
  {
   "cell_type": "code",
   "execution_count": 31,
   "id": "82c242d8",
   "metadata": {},
   "outputs": [
    {
     "name": "stdout",
     "output_type": "stream",
     "text": [
      "CD\n",
      "True\n"
     ]
    }
   ],
   "source": [
    "digits= '(I[VX]|V?I{0,3})'\n",
    "tens= '(X[CL]|L?X{0,3})'\n",
    "hundreds= '(C[MD]|D?C{0,3})'\n",
    "thousands= 'M{0,3}'\n",
    "regex_pattern = r\"%s%s%s%s$\" % (thousands, hundreds, tens, digits)\n",
    "import re\n",
    "print(str(bool(re.match(regex_pattern, input()))))"
   ]
  },
  {
   "cell_type": "code",
   "execution_count": null,
   "id": "2c2a2e84",
   "metadata": {},
   "outputs": [],
   "source": []
  },
  {
   "cell_type": "markdown",
   "id": "da1a4840",
   "metadata": {},
   "source": [
    "### 8. You are given some input, and you are required to check whether they are valid mobile numbers.\n",
    "- A valid mobile number is a ten digit number starting with a 7, 8 or 9."
   ]
  },
  {
   "cell_type": "code",
   "execution_count": 25,
   "id": "aec173a8",
   "metadata": {},
   "outputs": [
    {
     "name": "stdout",
     "output_type": "stream",
     "text": [
      "5\n",
      "97W7368297\n",
      "NO\n",
      "8737802840\n",
      "YES\n",
      "97261827490\n",
      "NO\n",
      "7871374930\n",
      "YES\n",
      "08726272636\n",
      "NO\n"
     ]
    }
   ],
   "source": [
    "N=int(input())\n",
    "for i in range(N):\n",
    "    S=input()\n",
    "    if (len(S)==10) and (S.isdigit()):\n",
    "        match=re.findall(r\"^[789]\\d{9}$\",S)\n",
    "        if len(match)==1:\n",
    "            print(\"YES\")\n",
    "        else:\n",
    "            print(\"NO\")\n",
    "    else:\n",
    "        print(\"NO\")"
   ]
  },
  {
   "cell_type": "code",
   "execution_count": null,
   "id": "821731ed",
   "metadata": {},
   "outputs": [],
   "source": []
  },
  {
   "cell_type": "markdown",
   "id": "a58c8f41",
   "metadata": {},
   "source": [
    "### 9. A valid email address meets the following criteria:\n",
    "- It's composed of a username, domain name, and extension assembled in this format: username@domain.extension\n",
    "- The username starts with an English alphabetical character, and any subsequent characters consist of one or more of the following: alphanumeric characters, -,., and _.\n",
    "- The domain and extension contain only English alphabetical characters.\n",
    "- The extension is 1, 2, or 3 characters in length.\n",
    "- Given N pairs of names and email addresses as input, print each name and email address pair having a valid email address on a new line."
   ]
  },
  {
   "cell_type": "code",
   "execution_count": 28,
   "id": "5b5f19f5",
   "metadata": {},
   "outputs": [
    {
     "name": "stdout",
     "output_type": "stream",
     "text": [
      "5\n",
      "Suraj <surajh8596@gmail.com>\n",
      "Suraj <surajh8596@gmail.com>\n",
      "Suraj <2suraj@hotmail.in>\n",
      "Suraj <surajh@email.hungry>\n",
      "Suraj suraj@gmail.com\n",
      "Suraj <suraj@email.in>\n",
      "Suraj <suraj@email.in>\n"
     ]
    }
   ],
   "source": [
    "N = int(input())\n",
    "for i in range(N):\n",
    "    name, email=input().split()\n",
    "    pattern=\"<[a-z][a-zA-Z0-9\\-\\.\\_]+@[a-zA-Z]+\\.[a-zA-Z]{1,3}>\"\n",
    "    if bool(re.match(pattern, email)):\n",
    "        print(name,email)"
   ]
  },
  {
   "cell_type": "code",
   "execution_count": null,
   "id": "1cbb8edb",
   "metadata": {},
   "outputs": [],
   "source": []
  },
  {
   "cell_type": "markdown",
   "id": "499e629c",
   "metadata": {},
   "source": [
    "### 10. ABCXYZ company has up to 100 employees. The company decides to create a unique identification number (UID) for each of its employees. The company has assigned you the task of validating all the randomly generated UIDs.\n",
    "**A valid UID must follow the rules below:**\n",
    "- It must contain at least 2 uppercase English alphabet characters.\n",
    "- It must contain at least 2 digits (0-9).\n",
    "- It should only contain alphanumeric characters (a-z, A-Z & 0-9).\n",
    "- No character should repeat.\n",
    "- There must be exactly 10 characters in a valid UID"
   ]
  },
  {
   "cell_type": "code",
   "execution_count": 37,
   "id": "cd7d967a",
   "metadata": {},
   "outputs": [
    {
     "name": "stdout",
     "output_type": "stream",
     "text": [
      "2\n",
      "AB47820391\n",
      "Valid\n",
      "AB47820390\n",
      "Invalid\n"
     ]
    }
   ],
   "source": [
    "T=int(input())\n",
    "for i in range(T):\n",
    "    S=input()\n",
    "    if S.isalnum() and len(S) == 10:\n",
    "        if bool(re.search(r'(.*[A-Z]){2,}',S)) and bool(re.search(r'(.*[0-9]){3,}',S)):\n",
    "            if re.search(r'.*(.).*\\1+.*',S):\n",
    "                print('Invalid')\n",
    "            else:\n",
    "                print('Valid')\n",
    "        else:\n",
    "            print('Invalid')\n",
    "    else:\n",
    "        print('Invalid')"
   ]
  },
  {
   "cell_type": "code",
   "execution_count": null,
   "id": "1838eac9",
   "metadata": {},
   "outputs": [],
   "source": []
  },
  {
   "cell_type": "markdown",
   "id": "ffe5b18f",
   "metadata": {},
   "source": [
    "### 11. You and Fredrick are good friends. Yesterday, Fredrick received N credit cards from ABCD Bank. He wants to verify whether his credit card numbers are valid or not. You happen to be great at regex so he is asking for your help!\n",
    "**A valid credit card from ABCD Bank has the following characteristics:**\n",
    "- It must start with a 4, 5 or 6.\n",
    "- It must contain exactly 16 digits.\n",
    "- It must only consist of digits (0-9).\n",
    "- It may have digits in groups of 4, separated by one hyphen \"-\".\n",
    "- It must NOT use any other separator like ' ' , '_', etc.\n",
    "- It must NOT have 4 or more consecutive repeated digits."
   ]
  },
  {
   "cell_type": "code",
   "execution_count": 54,
   "id": "2fbe3949",
   "metadata": {},
   "outputs": [
    {
     "name": "stdout",
     "output_type": "stream",
     "text": [
      "6\n",
      "4123456789123456\n",
      "Valid\n",
      "5123-4567-8912-3456\n",
      "Valid\n",
      "61234-567-8912-3456\n",
      "Invalid\n",
      "4123356789123456\n",
      "Valid\n",
      "5133-3367-8912-3456\n",
      "Invalid\n",
      "5123 - 3567 - 8912 - 3456\n",
      "Invalid\n"
     ]
    }
   ],
   "source": [
    "N=int(input())\n",
    "for i in range(N):\n",
    "    S=input()\n",
    "    match=re.search(r'^[456]\\d{3}(-?)\\d{4}\\1\\d{4}\\1\\d{4}$',S)\n",
    "    if match:\n",
    "        match_join= \"\".join(match.group(0).split('-'))\n",
    "        final_match = re.search(r'(\\d)\\1{3,}',match_join)\n",
    "        if final_match:\n",
    "            print('Invalid')\n",
    "        else :\n",
    "            print('Valid')\n",
    "    else:\n",
    "        print('Invalid')"
   ]
  },
  {
   "cell_type": "code",
   "execution_count": null,
   "id": "2e7a18eb",
   "metadata": {},
   "outputs": [],
   "source": []
  },
  {
   "cell_type": "markdown",
   "id": "4e1f0de8",
   "metadata": {},
   "source": [
    "### 12. A valid postal code P have to fullfil both below requirements:\n",
    "- P must be a number in the range from 100000 to 999999 inclusive.\n",
    "- P must not contain more than one alternating repetitive digit pair.\n",
    "\n",
    "**Note**:\n",
    "Alternating repetitive digits are digits which repeat immediately after the next digit. In other words, an alternating repetitive digit pair is formed by two equal digits that have just a single digit between them.\n",
    "\n",
    "- Your task is to provide two regular expressions regex_integer_in_range and regex_alternating_repetitive_digit_pair. Where **regex_integer_in_range** should match only integers range from 100000 to 999999 inclusive **regex_alternating_repetitive_digit_pair** should find alternating repetitive digits pairs in a given string.\n",
    "Both these regular expressions will be used by the provided code template to check if the input string P is a valid postal code"
   ]
  },
  {
   "cell_type": "code",
   "execution_count": 60,
   "id": "aa79589b",
   "metadata": {},
   "outputs": [
    {
     "name": "stdout",
     "output_type": "stream",
     "text": [
      "121212\n",
      "False\n"
     ]
    }
   ],
   "source": [
    "regex_integer_in_range = r\"^[1-9][\\d]{5}\"\n",
    "regex_alternating_repetitive_digit_pair = r\"(\\d)(?=\\d\\1)\"\n",
    "\n",
    "P = input()\n",
    "print (bool(re.match(regex_integer_in_range, P)) and len(re.findall(regex_alternating_repetitive_digit_pair, P)) < 2)"
   ]
  },
  {
   "cell_type": "code",
   "execution_count": null,
   "id": "429e049a",
   "metadata": {},
   "outputs": [],
   "source": []
  },
  {
   "cell_type": "markdown",
   "id": "4b416359",
   "metadata": {},
   "source": [
    "### 13. You are given an HTML code snippet of N lines. Your task is to print start tags, end tags and empty tags separately."
   ]
  },
  {
   "cell_type": "code",
   "execution_count": 67,
   "id": "2e47d832",
   "metadata": {},
   "outputs": [
    {
     "name": "stdout",
     "output_type": "stream",
     "text": [
      "2\n",
      "<html><head><title>HTML Parser - I</title></head>\n",
      "Start : html\n",
      "Start : head\n",
      "Start : title\n",
      "End   : title\n",
      "End   : head\n",
      "<body data-modal-target class='1'><h1>HackerRank</h1><br /></body></html>\n",
      "Start : body\n",
      "-> data-modal-target > None\n",
      "-> class > 1\n",
      "Start : h1\n",
      "End   : h1\n",
      "Empty : br\n",
      "End   : body\n",
      "End   : html\n"
     ]
    }
   ],
   "source": [
    "from html.parser import HTMLParser\n",
    "\n",
    "class MyHTMLParser(HTMLParser):\n",
    "    def handle_starttag(self, tag, attrs):\n",
    "        print ('Start :', tag)\n",
    "        for ele in attrs:\n",
    "            print ('->', ele[0], '>', ele[1])\n",
    "\n",
    "    def handle_endtag(self, tag):\n",
    "        print ('End   :', tag)\n",
    "\n",
    "    def handle_startendtag(self, tag, attrs):\n",
    "        print ('Empty :', tag)\n",
    "        for ele in attrs:\n",
    "            print ('->', ele[0], '>', ele[1])\n",
    "\n",
    "parser = MyHTMLParser()\n",
    "for _ in range(int(input())):\n",
    "    parser.feed(input())"
   ]
  },
  {
   "cell_type": "code",
   "execution_count": null,
   "id": "176ac84c",
   "metadata": {},
   "outputs": [],
   "source": []
  },
  {
   "cell_type": "markdown",
   "id": "1a59c23c",
   "metadata": {},
   "source": [
    "### 14. You are given an HTML code snippet of N lines. Your task is to print the single-line comments, multi-line comments and the data."
   ]
  },
  {
   "cell_type": "code",
   "execution_count": 95,
   "id": "4fd15ddb",
   "metadata": {},
   "outputs": [
    {
     "name": "stdout",
     "output_type": "stream",
     "text": [
      "4\n",
      "<!--[if IE 9]>IE9-specific content\n",
      "<![endif]-->\n",
      "<div> Welcome to HackerRank</div>\n",
      "<!--[if IE 9]>IE9-specific content<![endif]-->\n",
      ">>> Multi-line Comment\n",
      "[if IE 9]>IE9-specific content\n",
      "<![endif]\n",
      ">>> Data\n",
      " Welcome to HackerRank\n",
      ">>> Single-line Comment\n",
      "[if IE 9]>IE9-specific content<![endif]\n"
     ]
    }
   ],
   "source": [
    "from html.parser import HTMLParser\n",
    "\n",
    "class MyHTMLParser(HTMLParser):\n",
    "\n",
    "\n",
    "    def handle_comment(self, data):\n",
    "        if (len(data.split('\\n')) != 1):\n",
    "            print(\">>> Multi-line Comment\")\n",
    "        else:\n",
    "            print(\">>> Single-line Comment\")\n",
    "        print(data.replace(\"\\r\", \"\\n\"))\n",
    "    def handle_data(self, data):\n",
    "        if data.strip():\n",
    "            print(\">>> Data\")\n",
    "            print(data)\n",
    "            \n",
    "            \n",
    "html = \"\"       \n",
    "for i in range(int(input())):\n",
    "    html += input().rstrip()\n",
    "    html += '\\n'\n",
    "    \n",
    "parser = MyHTMLParser()\n",
    "parser.feed(html)\n",
    "parser.close()"
   ]
  },
  {
   "cell_type": "code",
   "execution_count": null,
   "id": "e34ef751",
   "metadata": {},
   "outputs": [],
   "source": []
  },
  {
   "cell_type": "markdown",
   "id": "dd6cbdb9",
   "metadata": {},
   "source": [
    "### 15. You are given an HTML code snippet of N lines. Your task is to detect and print all the HTML tags, attributes and attribute values."
   ]
  },
  {
   "cell_type": "code",
   "execution_count": 66,
   "id": "670976cb",
   "metadata": {},
   "outputs": [
    {
     "name": "stdout",
     "output_type": "stream",
     "text": [
      "9\n",
      "<head>\n",
      "<title>HTML</title>\n",
      "</head>\n",
      "<object type=\"application/x-flash\"\n",
      "  data=\"your-file.swf\"\n",
      "  width=\"0\" height=\"0\">\n",
      "  <!-- <param name=\"movie\" value=\"your-file.swf\" /> -->\n",
      "  <param name=\"quality\" value=\"high\"/>\n",
      "</object>\n",
      "head\n",
      "title\n",
      "object\n",
      "-> type > application/x-flash\n",
      "-> data > your-file.swf\n",
      "-> width > 0\n",
      "-> height > 0\n",
      "param\n",
      "-> name > quality\n",
      "-> value > high\n"
     ]
    }
   ],
   "source": [
    "from html.parser import HTMLParser\n",
    "\n",
    "class MyHTMLParser(HTMLParser):\n",
    "    def handle_starttag(self, tag, attrs):\n",
    "        print(tag)\n",
    "        for attr, value in attrs:\n",
    "            print(\"->\", attr, \">\", value)\n",
    "\n",
    "    def handle_startendtag(self, tag, attrs):\n",
    "        print(tag)\n",
    "        for attr, value in attrs:\n",
    "            print(\"->\", attr, \">\", value)\n",
    "\n",
    "html = ''\n",
    "for _ in range(int(input())):\n",
    "    html += input() + '\\n'\n",
    "\n",
    "parser = MyHTMLParser()\n",
    "parser.feed(html)\n",
    "parser.close()"
   ]
  },
  {
   "cell_type": "code",
   "execution_count": null,
   "id": "87737092",
   "metadata": {},
   "outputs": [],
   "source": []
  },
  {
   "cell_type": "markdown",
   "id": "0dbb0d2f",
   "metadata": {},
   "source": [
    "### 16. You are given N lines of CSS code. Your task is to print all valid Hex Color Codes, in order of their occurrence from top to bottom."
   ]
  },
  {
   "cell_type": "code",
   "execution_count": 96,
   "id": "49b8cb4e",
   "metadata": {},
   "outputs": [
    {
     "name": "stdout",
     "output_type": "stream",
     "text": [
      "11\n",
      "#BED\n",
      "{\n",
      "    color: #FfFdF8; background-color:#aef;\n",
      "#FfFdF8\n",
      "#aef\n",
      "    font-size: 123px;\n",
      "}\n",
      "#Cab\n",
      "{\n",
      "    background-color: #ABC;\n",
      "#ABC\n",
      "    border: 2px dashed #fff;\n",
      "#fff\n",
      "}\n",
      "}\n"
     ]
    }
   ],
   "source": [
    "T = int(input())\n",
    "css = False\n",
    "for i in range(T):\n",
    "    s = input()\n",
    "    if '{' in s:\n",
    "        css = True\n",
    "    elif '}' in s:\n",
    "        css = False\n",
    "    elif css:\n",
    "        for color in re.findall('#[0-9a-fA-F]{3,6}', s):\n",
    "            print(color)"
   ]
  },
  {
   "cell_type": "code",
   "execution_count": null,
   "id": "d134e620",
   "metadata": {},
   "outputs": [],
   "source": []
  },
  {
   "cell_type": "markdown",
   "id": "7d2214f7",
   "metadata": {},
   "source": [
    "### 17. Matrix Script"
   ]
  },
  {
   "cell_type": "code",
   "execution_count": 103,
   "id": "ee57a44e",
   "metadata": {},
   "outputs": [
    {
     "name": "stdout",
     "output_type": "stream",
     "text": [
      "7 3\n",
      "Tsi\n",
      "h%x\n",
      "i #\n",
      "sM\n",
      "$a\n",
      "#t%\n",
      "ir!\n",
      "This is Matr\n"
     ]
    }
   ],
   "source": [
    "first_multiple_input = input().rstrip().split()\n",
    "n = int(first_multiple_input[0])\n",
    "m = int(first_multiple_input[1])\n",
    "matrix=[]\n",
    "\n",
    "for _ in range(n):\n",
    "    matrix_item = input()\n",
    "    matrix.append(matrix_item)\n",
    "\n",
    "matrix = list(zip(*matrix))\n",
    "\n",
    "sample = str()\n",
    "\n",
    "for words in matrix:\n",
    "    for char in words:\n",
    "        sample += char\n",
    "\n",
    "print(re.sub(r'(?<=\\w)([^\\w\\d]+)(?=\\w)', ' ', sample))"
   ]
  },
  {
   "cell_type": "code",
   "execution_count": null,
   "id": "2306dd9d",
   "metadata": {},
   "outputs": [],
   "source": []
  }
 ],
 "metadata": {
  "kernelspec": {
   "display_name": "python3.11",
   "language": "python",
   "name": "python3.11"
  },
  "language_info": {
   "codemirror_mode": {
    "name": "ipython",
    "version": 3
   },
   "file_extension": ".py",
   "mimetype": "text/x-python",
   "name": "python",
   "nbconvert_exporter": "python",
   "pygments_lexer": "ipython3",
   "version": "3.9.7"
  }
 },
 "nbformat": 4,
 "nbformat_minor": 5
}
