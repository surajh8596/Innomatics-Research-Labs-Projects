{
 "cells": [
  {
   "cell_type": "markdown",
   "id": "103e3659",
   "metadata": {},
   "source": [
    "### 1. You are given a string and your task is to swap cases. In other words, convert all lowercase letters to uppercase letters and vice versa."
   ]
  },
  {
   "cell_type": "code",
   "execution_count": 2,
   "id": "bc145188",
   "metadata": {},
   "outputs": [
    {
     "name": "stdout",
     "output_type": "stream",
     "text": [
      "mY nAME iS suraj!\n",
      "My Name Is SURAJ!\n"
     ]
    }
   ],
   "source": [
    "def swap_case(s):\n",
    "    a=s.split()\n",
    "    a=\" \".join(a)\n",
    "    return a.swapcase()\n",
    "\n",
    "s = input()\n",
    "result = split_and_join(s)\n",
    "print(result)"
   ]
  },
  {
   "cell_type": "code",
   "execution_count": null,
   "id": "afa40426",
   "metadata": {},
   "outputs": [],
   "source": []
  },
  {
   "cell_type": "markdown",
   "id": "096c3a61",
   "metadata": {},
   "source": [
    "### 2. You are given a string. Split the string on a \" \" (space) delimiter and join using a - hyphen."
   ]
  },
  {
   "cell_type": "code",
   "execution_count": 3,
   "id": "678a6b74",
   "metadata": {},
   "outputs": [
    {
     "name": "stdout",
     "output_type": "stream",
     "text": [
      "my name is suraj\n",
      "my-name-is-suraj\n"
     ]
    }
   ],
   "source": [
    "def split_and_join(line):\n",
    "    a=line.split()\n",
    "    a=\"-\".join(a)\n",
    "    return a\n",
    "\n",
    "line = input()\n",
    "result = split_and_join(line)\n",
    "print(result)"
   ]
  },
  {
   "cell_type": "code",
   "execution_count": null,
   "id": "9f5108db",
   "metadata": {},
   "outputs": [],
   "source": []
  },
  {
   "cell_type": "markdown",
   "id": "d884c1f7",
   "metadata": {},
   "source": [
    "### 3. You are given the firstname and lastname of a person on two different lines. Your task is to read them and print the following:\n",
    "**\"Hello firstname lastname! You just delved into python\".**"
   ]
  },
  {
   "cell_type": "code",
   "execution_count": 4,
   "id": "85ccee32",
   "metadata": {},
   "outputs": [
    {
     "name": "stdout",
     "output_type": "stream",
     "text": [
      "Suraj\n",
      "Honkamble\n",
      "Hello Suraj Honkamble! You just delved into python.\n"
     ]
    }
   ],
   "source": [
    "def print_full_name(first, last):\n",
    "    print(\"Hello {} {}! You just delved into python.\".format(first,last))\n",
    "\n",
    "first_name = input()\n",
    "last_name = input()\n",
    "print_full_name(first_name, last_name)"
   ]
  },
  {
   "cell_type": "code",
   "execution_count": null,
   "id": "0e0d36b7",
   "metadata": {},
   "outputs": [],
   "source": []
  },
  {
   "cell_type": "markdown",
   "id": "43986d94",
   "metadata": {},
   "source": [
    "### 4. Read a given string, change the character at a given index and then print the modified string."
   ]
  },
  {
   "cell_type": "code",
   "execution_count": 8,
   "id": "e41377c5",
   "metadata": {},
   "outputs": [
    {
     "name": "stdout",
     "output_type": "stream",
     "text": [
      "Singapore\n",
      "0 L\n",
      "Lingapore\n"
     ]
    }
   ],
   "source": [
    "def mutate_string(string, position, character):\n",
    "    str_lst=list(string)\n",
    "    str_lst[position]=character\n",
    "    string=\"\".join(str_lst)\n",
    "    return string\n",
    "\n",
    "s = input()\n",
    "i, c = input().split()\n",
    "s_new = mutate_string(s, int(i), c)\n",
    "print(s_new)"
   ]
  },
  {
   "cell_type": "code",
   "execution_count": null,
   "id": "6a6c37a1",
   "metadata": {},
   "outputs": [],
   "source": []
  },
  {
   "cell_type": "markdown",
   "id": "a7252a41",
   "metadata": {},
   "source": [
    "### 5. In this challenge, the user enters a string and a substring. You have to print the number of times that the substring occurs in the given string. String traversal will take place from left to right, not from right to left.\n",
    "**NOTE: String letters are case-sensitive**"
   ]
  },
  {
   "cell_type": "code",
   "execution_count": 10,
   "id": "9798e5cb",
   "metadata": {},
   "outputs": [
    {
     "name": "stdout",
     "output_type": "stream",
     "text": [
      "ajaajamehupyarajaajaja\n",
      "aja\n",
      "5\n"
     ]
    }
   ],
   "source": [
    "def count_substring(string, sub_string):\n",
    "    len_str=len(string)\n",
    "    len_sub_str=len(sub_string)\n",
    "    c=0\n",
    "    for i in range((len_str-len_sub_str)+1):\n",
    "        if (string[i:(i+len_sub_str)]==sub_string):\n",
    "            c+=1\n",
    "    return c\n",
    "\n",
    "string = input().strip()\n",
    "sub_string = input().strip()\n",
    "count = count_substring(string, sub_string)\n",
    "print(count)"
   ]
  },
  {
   "cell_type": "code",
   "execution_count": null,
   "id": "13cec045",
   "metadata": {},
   "outputs": [],
   "source": []
  },
  {
   "cell_type": "markdown",
   "id": "e2fbe205",
   "metadata": {},
   "source": [
    "### 6. You are given a string S.\n",
    "- Your task is to find out if the string S contains: alphanumeric characters, alphabetical characters, digits, lowercase and uppercase characters."
   ]
  },
  {
   "cell_type": "code",
   "execution_count": 11,
   "id": "d47050de",
   "metadata": {},
   "outputs": [
    {
     "name": "stdout",
     "output_type": "stream",
     "text": [
      "qA2\n",
      "True\n",
      "True\n",
      "True\n",
      "True\n",
      "True\n"
     ]
    }
   ],
   "source": [
    "s=input()\n",
    "print(any([i.isalnum() for i in s]))\n",
    "print(any([i.isalpha() for i in s]))\n",
    "print(any([i.isnumeric() for i in s]))\n",
    "print(any([i.islower() for i in s]))\n",
    "print(any([i.isupper() for i in s]))"
   ]
  },
  {
   "cell_type": "code",
   "execution_count": null,
   "id": "7ca90a22",
   "metadata": {},
   "outputs": [],
   "source": []
  },
  {
   "cell_type": "markdown",
   "id": "d0e15b89",
   "metadata": {},
   "source": [
    "### 7. You are given a partial code that is used for generating the HackerRank Logo of variable thickness.\n",
    "- Your task is to replace the blank (______) with rjust, ljust or center"
   ]
  },
  {
   "cell_type": "code",
   "execution_count": 12,
   "id": "35adfc16",
   "metadata": {},
   "outputs": [
    {
     "name": "stdout",
     "output_type": "stream",
     "text": [
      "5\n",
      "    H    \n",
      "   HHH   \n",
      "  HHHHH  \n",
      " HHHHHHH \n",
      "HHHHHHHHH\n",
      "  HHHHH               HHHHH             \n",
      "  HHHHH               HHHHH             \n",
      "  HHHHH               HHHHH             \n",
      "  HHHHH               HHHHH             \n",
      "  HHHHH               HHHHH             \n",
      "  HHHHH               HHHHH             \n",
      "  HHHHHHHHHHHHHHHHHHHHHHHHH   \n",
      "  HHHHHHHHHHHHHHHHHHHHHHHHH   \n",
      "  HHHHHHHHHHHHHHHHHHHHHHHHH   \n",
      "  HHHHH               HHHHH             \n",
      "  HHHHH               HHHHH             \n",
      "  HHHHH               HHHHH             \n",
      "  HHHHH               HHHHH             \n",
      "  HHHHH               HHHHH             \n",
      "  HHHHH               HHHHH             \n",
      "                    HHHHHHHHH \n",
      "                     HHHHHHH  \n",
      "                      HHHHH   \n",
      "                       HHH    \n",
      "                        H     \n"
     ]
    }
   ],
   "source": [
    "thickness = int(input()) #This must be an odd number\n",
    "c = 'H'\n",
    "\n",
    "#Top Cone\n",
    "for i in range(thickness):\n",
    "    print((c*i).rjust(thickness-1)+c+(c*i).ljust(thickness-1))\n",
    "    \n",
    "#Top Pillars\n",
    "for i in range(thickness+1):\n",
    "    print((c*thickness).center(thickness*2)+(c*thickness).center(thickness*6))\n",
    "\n",
    "#Middle Belt\n",
    "for i in range((thickness+1)//2):\n",
    "    print((c*thickness*5).center(thickness*6))    \n",
    "\n",
    "#Bottom Pillars\n",
    "for i in range(thickness+1):\n",
    "    print((c*thickness).center(thickness*2)+(c*thickness).center(thickness*6))    \n",
    "\n",
    "#Bottom Cone\n",
    "for i in range(thickness):\n",
    "    print(((c*(thickness-i-1)).rjust(thickness)+c+(c*(thickness-i-1)).ljust(thickness)).rjust(thickness*6))"
   ]
  },
  {
   "cell_type": "code",
   "execution_count": null,
   "id": "f2bb08a5",
   "metadata": {},
   "outputs": [],
   "source": []
  },
  {
   "cell_type": "markdown",
   "id": "ae9b6e3a",
   "metadata": {},
   "source": [
    "### 8. You are given a string S and width w.\n",
    "- Your task is to wrap the string into a paragraph of width w."
   ]
  },
  {
   "cell_type": "code",
   "execution_count": 14,
   "id": "5267defb",
   "metadata": {},
   "outputs": [
    {
     "name": "stdout",
     "output_type": "stream",
     "text": [
      "ABCDEFGHIJKLIMNOQRSTUVWXYZ\n",
      "5\n",
      "ABCDE\n",
      "FGHIJ\n",
      "KLIMN\n",
      "OQRST\n",
      "UVWXY\n",
      "Z\n"
     ]
    }
   ],
   "source": [
    "import textwrap\n",
    "def wrap(string, max_width):\n",
    "    wraped_string=textwrap.fill(string, max_width)\n",
    "    return wraped_string\n",
    "    \n",
    "\n",
    "string, max_width = input(), int(input())\n",
    "result = wrap(string, max_width)\n",
    "print(result)"
   ]
  },
  {
   "cell_type": "code",
   "execution_count": null,
   "id": "1cb3f889",
   "metadata": {},
   "outputs": [],
   "source": []
  },
  {
   "cell_type": "markdown",
   "id": "c59b96c9",
   "metadata": {},
   "source": [
    "### 9. Given an integer, n, print the following values for each integer i from 1 to n:\n",
    "- Decimal\n",
    "- Octal\n",
    "- Hexadecimal (capitalized)\n",
    "- Binary"
   ]
  },
  {
   "cell_type": "code",
   "execution_count": 22,
   "id": "5e1ba890",
   "metadata": {},
   "outputs": [
    {
     "name": "stdout",
     "output_type": "stream",
     "text": [
      "10\n",
      "   1    1    1    1\n",
      "   2    2    2   10\n",
      "   3    3    3   11\n",
      "   4    4    4  100\n",
      "   5    5    5  101\n",
      "   6    6    6  110\n",
      "   7    7    7  111\n",
      "   8   10    8 1000\n",
      "   9   11    9 1001\n",
      "  10   12    A 1010\n"
     ]
    }
   ],
   "source": [
    "def print_formatted(number):\n",
    "    n=len(\"{0:b}\".format(number))\n",
    "    for i in range(1, number+1):\n",
    "        print(\"{0:{n}d} {0:{n}o} {0:{n}X} {0:{n}b}\".format(i, n=n))\n",
    "\n",
    "n = int(input())\n",
    "print_formatted(n)"
   ]
  },
  {
   "cell_type": "code",
   "execution_count": null,
   "id": "787dc5f3",
   "metadata": {},
   "outputs": [],
   "source": []
  },
  {
   "cell_type": "markdown",
   "id": "a5784791",
   "metadata": {},
   "source": [
    "### 10. You are asked to ensure that the first and last names of people begin with a capital letter in their passports. For example, alison heck should be capitalised correctly as Alison Heck."
   ]
  },
  {
   "cell_type": "code",
   "execution_count": 23,
   "id": "09358e18",
   "metadata": {},
   "outputs": [
    {
     "name": "stdout",
     "output_type": "stream",
     "text": [
      "1 w 2 r 3g\n",
      "1 W 2 R 3g \n"
     ]
    }
   ],
   "source": [
    "def solve(s):\n",
    "    l=s.split(\" \")\n",
    "    s=\"\"\n",
    "    for i in l:\n",
    "        s=s+i.capitalize()+ \" \"\n",
    "    return s\n",
    "\n",
    "\n",
    "s = input()\n",
    "result = solve(s)\n",
    "print(result)"
   ]
  },
  {
   "cell_type": "code",
   "execution_count": null,
   "id": "57fbe1d0",
   "metadata": {},
   "outputs": [],
   "source": []
  },
  {
   "cell_type": "markdown",
   "id": "e6e9a8a1",
   "metadata": {},
   "source": [
    "### 11. Kevin and Stuart want to play the 'The Minion Game', Your task is to determine the winner of the game and their score.\n",
    "**Game Rules**\n",
    "- Both players are given the same string, .\n",
    "- Both players have to make substrings using the letters of the string .\n",
    "- Stuart has to make words starting with consonants.\n",
    "- Kevin has to make words starting with vowels.\n",
    "- The game ends when both players have made all possible substrings."
   ]
  },
  {
   "cell_type": "code",
   "execution_count": 25,
   "id": "31cafe99",
   "metadata": {},
   "outputs": [
    {
     "name": "stdout",
     "output_type": "stream",
     "text": [
      "ACKNOWLEDGEMENT\n",
      "Stuart 78\n"
     ]
    }
   ],
   "source": [
    "def minion_game(string):\n",
    "    s=len(string)\n",
    "    cons=0\n",
    "    vow=0\n",
    "    \n",
    "    #count of vowels and consonunts\n",
    "    for i in range(s):\n",
    "        if string[i] in \"AEIOU\":\n",
    "            vow=vow+(s-i)\n",
    "        else:\n",
    "            cons=cons+(s-i)\n",
    "    \n",
    "    #print winner name and score\n",
    "    if cons>vow:\n",
    "        print(\"Stuart {}\".format(cons))\n",
    "    elif vow>cons:\n",
    "        print(\"Kevin {}\".format(vow))\n",
    "    else:\n",
    "        print(\"Draw\")\n",
    "\n",
    "s = input()\n",
    "minion_game(s)"
   ]
  },
  {
   "cell_type": "code",
   "execution_count": null,
   "id": "638f328a",
   "metadata": {},
   "outputs": [],
   "source": []
  },
  {
   "cell_type": "markdown",
   "id": "29f4c3b8",
   "metadata": {},
   "source": [
    "### 12. Merge the tools."
   ]
  },
  {
   "cell_type": "code",
   "execution_count": 32,
   "id": "24143b47",
   "metadata": {},
   "outputs": [
    {
     "name": "stdout",
     "output_type": "stream",
     "text": [
      "JAGAKLRADAPL\n",
      "2\n",
      "JA\n",
      "GA\n",
      "KL\n",
      "RA\n",
      "DA\n",
      "PL\n"
     ]
    }
   ],
   "source": [
    "def merge_the_tools(string, k):\n",
    "    c=0\n",
    "    s=''\n",
    "    for i in string:\n",
    "        if i not in s:\n",
    "            s=s+i\n",
    "        c+=1\n",
    "        if c==k:\n",
    "            print(s)\n",
    "            \n",
    "            c=0\n",
    "            s=''\n",
    "\n",
    "string, k = input(), int(input())\n",
    "merge_the_tools(string, k)"
   ]
  },
  {
   "cell_type": "code",
   "execution_count": null,
   "id": "4dcd3318",
   "metadata": {},
   "outputs": [],
   "source": []
  },
  {
   "cell_type": "markdown",
   "id": "ee8e9fc2",
   "metadata": {},
   "source": [
    "### 13. You are given an integer, N. Your task is to print an alphabet rangoli of size N."
   ]
  },
  {
   "cell_type": "code",
   "execution_count": 41,
   "id": "d99f0839",
   "metadata": {},
   "outputs": [
    {
     "name": "stdout",
     "output_type": "stream",
     "text": [
      "5\n",
      "--------e--------\n",
      "------e-d-e------\n",
      "----e-d-c-d-e----\n",
      "--e-d-c-b-c-d-e--\n",
      "e-d-c-b-a-b-c-d-e\n",
      "--e-d-c-b-c-d-e--\n",
      "----e-d-c-d-e----\n",
      "------e-d-e------\n",
      "--------e--------\n"
     ]
    }
   ],
   "source": [
    "def print_rangoli(size):\n",
    "    pattern = '-'.join(chr(ch) for ch in reversed(range(ord('a'), ord('a') + size)))\n",
    "    layers = []\n",
    "    for limit in range(1, size*2, 2):\n",
    "        layer = f'{pattern[:limit]}{pattern[:limit - 1][::-1]}'\n",
    "        layers.append(f'{layer:-^{size * 4 - 3}}')\n",
    "        print(layers[-1])\n",
    "    print('\\n'.join(reversed(layers[:-1])))\n",
    "    \n",
    "    \n",
    "n = int(input())\n",
    "print_rangoli(n)"
   ]
  },
  {
   "cell_type": "code",
   "execution_count": null,
   "id": "df71a2dd",
   "metadata": {},
   "outputs": [],
   "source": []
  },
  {
   "cell_type": "markdown",
   "id": "57fec849",
   "metadata": {},
   "source": [
    "### 14. Mr. Vincent works in a door mat manufacturing company. One day, he designed a new door mat with the following specifications:\n",
    "- Mat size must be NxM. (N is an odd natural number, and M is 3 times N.)\n",
    "- The design should have 'WELCOME' written in the center.\n",
    "- The design pattern should only use |, . and - characters"
   ]
  },
  {
   "cell_type": "code",
   "execution_count": 69,
   "id": "5b11d4d9",
   "metadata": {},
   "outputs": [
    {
     "name": "stdout",
     "output_type": "stream",
     "text": [
      "7 21\n",
      "---------.|.---------\n",
      "------.|..|..|.------\n",
      "---.|..|..|..|..|.---\n",
      "-------WELCOME-------\n",
      "---.|..|..|..|..|.---\n",
      "------.|..|..|.------\n",
      "---------.|.---------\n"
     ]
    }
   ],
   "source": [
    "input_= list(map(int, input().rstrip().split()))\n",
    "lines=input_[0]\n",
    "dots=input_[1]\n",
    "t=(dots-7)//2\n",
    "k=(lines//2)+1\n",
    "for i in range (1, lines+1):\n",
    "    if i==k:        \n",
    "        print('-'*t+'WELCOME'+'-'*t)\n",
    "    elif(i<k):\n",
    "        print('---'*(k-i)+('.|.'*(i))+('.|.'*(i-1))+('---'*(k-i)))\n",
    "    else:\n",
    "        print(('---'*(i-k))+('.|.'*(lines-i+1))+('.|.'*(lines-i))+('---'*(i-k)))"
   ]
  },
  {
   "cell_type": "code",
   "execution_count": null,
   "id": "254d92d2",
   "metadata": {},
   "outputs": [],
   "source": []
  }
 ],
 "metadata": {
  "kernelspec": {
   "display_name": "python3.11",
   "language": "python",
   "name": "python3.11"
  },
  "language_info": {
   "codemirror_mode": {
    "name": "ipython",
    "version": 3
   },
   "file_extension": ".py",
   "mimetype": "text/x-python",
   "name": "python",
   "nbconvert_exporter": "python",
   "pygments_lexer": "ipython3",
   "version": "3.9.7"
  }
 },
 "nbformat": 4,
 "nbformat_minor": 5
}
